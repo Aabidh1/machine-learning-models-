{
  "nbformat": 4,
  "nbformat_minor": 0,
  "metadata": {
    "colab": {
      "provenance": [],
      "toc_visible": true,
      "gpuType": "T4"
    },
    "kernelspec": {
      "name": "python3",
      "display_name": "Python 3"
    },
    "language_info": {
      "name": "python"
    },
    "accelerator": "GPU"
  },
  "cells": [
    {
      "cell_type": "code",
      "source": [
        "import torch\n",
        "import torch.nn as nn\n",
        "import torch.optim as optim\n",
        "from sklearn.datasets import load_breast_cancer\n",
        "from sklearn.model_selection import train_test_split\n",
        "from sklearn.preprocessing import StandardScaler"
      ],
      "metadata": {
        "id": "jSNhjPpMsCW7"
      },
      "execution_count": 1,
      "outputs": []
    },
    {
      "cell_type": "markdown",
      "source": [
        "###device config"
      ],
      "metadata": {
        "id": "noLvZ5DetSjC"
      }
    },
    {
      "cell_type": "code",
      "source": [
        "# check for CUDA availability\n",
        "device = torch.device(\"cuda\" if torch.cuda.is_available() else \"cpu\")\n",
        "print(f\"Using device: {device}\")"
      ],
      "metadata": {
        "colab": {
          "base_uri": "https://localhost:8080/"
        },
        "id": "EdKMtMuSsz65",
        "outputId": "a6df40f1-fb6c-42bb-b075-a6ea1d73f949"
      },
      "execution_count": 2,
      "outputs": [
        {
          "output_type": "stream",
          "name": "stdout",
          "text": [
            "Using device: cuda\n"
          ]
        }
      ]
    },
    {
      "cell_type": "code",
      "source": [
        "# load the breast cancer dataset\n",
        "data = load_breast_cancer()\n",
        "X = data.data\n",
        "y = data.target"
      ],
      "metadata": {
        "id": "lyM_cjwrtAK6"
      },
      "execution_count": 3,
      "outputs": []
    },
    {
      "cell_type": "code",
      "source": [
        "# split the dataset into training and test set\n",
        "X_train, X_test, y_train, y_test = train_test_split(X, y, test_size=0.2, random_state=42)"
      ],
      "metadata": {
        "id": "E7IUJJWGtfVP"
      },
      "execution_count": 4,
      "outputs": []
    },
    {
      "cell_type": "code",
      "source": [
        "print(X.shape)\n",
        "print(X_train.shape) #xtrain sahpe\n",
        "print(X_test.shape)"
      ],
      "metadata": {
        "colab": {
          "base_uri": "https://localhost:8080/"
        },
        "id": "ZbBSUJUxtmT4",
        "outputId": "5293da7d-0755-4d91-a10a-1dcfedd1c549"
      },
      "execution_count": 5,
      "outputs": [
        {
          "output_type": "stream",
          "name": "stdout",
          "text": [
            "(569, 30)\n",
            "(455, 30)\n",
            "(114, 30)\n"
          ]
        }
      ]
    },
    {
      "cell_type": "code",
      "source": [
        "# standardize the data using Standard sclaer\n",
        "scaler = StandardScaler()\n",
        "\n",
        "X_train = scaler.fit_transform(X_train)\n",
        "X_test = scaler.transform(X_test)"
      ],
      "metadata": {
        "id": "IouRaMU7tquN"
      },
      "execution_count": 6,
      "outputs": []
    },
    {
      "cell_type": "code",
      "source": [
        "# convert data numpy to PyTorch tensors and move it to GPU\n",
        "X_train = torch.tensor(X_train, dtype=torch.float32).to(device)\n",
        "y_train = torch.tensor(y_train, dtype=torch.float32).to(device)\n",
        "X_test = torch.tensor(X_test, dtype=torch.float32).to(device)\n",
        "y_test = torch.tensor(y_test, dtype=torch.float32).to(device)"
      ],
      "metadata": {
        "id": "lluhNO7GtuwC"
      },
      "execution_count": 7,
      "outputs": []
    },
    {
      "cell_type": "code",
      "source": [
        "# define the neural network architecture\n",
        "\n",
        "class NeuralNet(nn.Module): #import torch.nn\n",
        "\n",
        "  def __init__(self, input_size, hidden_size, output_size): #feature = input #hidden how many nuron should #output neoron class ekta samanai\n",
        "    super(NeuralNet, self).__init__() #checking parameters validation. super is used to call the parent class constructor\n",
        "    self.fc1 = nn.Linear(input_size, hidden_size) #fc1 fully connected layer hidden layers me\n",
        "    self.relu = nn.ReLU() #non linear\n",
        "    self.fc2 = nn.Linear(hidden_size, output_size)  #layer hidden layers me\n",
        "    self.sigmoid = nn.Sigmoid() #output\n",
        "\n",
        "  def forward(self, x): #forward propogation\n",
        "    out = self.fc1(x) #input\n",
        "    out = self.relu(out)\n",
        "    out = self.fc2(out)\n",
        "    out = self.sigmoid(out)\n",
        "    return out"
      ],
      "metadata": {
        "id": "OULmaFtwt2qN"
      },
      "execution_count": 8,
      "outputs": []
    },
    {
      "cell_type": "code",
      "source": [
        "# define hyperparameters #backward prop\n",
        "input_size = X_train.shape[1] #features gana\n",
        "hidden_size = 128 #nuron gana 128 32\n",
        "output_size = 1 #sigmoid nisa\n",
        "learning_rate = 0.001\n",
        "num_epochs = 100 #epoch"
      ],
      "metadata": {
        "id": "3DOCx1EouAnv"
      },
      "execution_count": 16,
      "outputs": []
    },
    {
      "cell_type": "code",
      "source": [
        "# initialize the neural network and move it the GPU\n",
        "model = NeuralNet(input_size, hidden_size, output_size).to(device)"
      ],
      "metadata": {
        "id": "2_bHayB3uZcb"
      },
      "execution_count": 17,
      "outputs": []
    },
    {
      "cell_type": "code",
      "source": [
        "# define loss and the optimizer\n",
        "criterion = nn.BCELoss() #binary cross entropy\n",
        "optimizer = optim.Adam(model.parameters(), lr=learning_rate) #uda optim adam optimizer"
      ],
      "metadata": {
        "id": "Eioc0d_oul7s"
      },
      "execution_count": 18,
      "outputs": []
    },
    {
      "cell_type": "markdown",
      "source": [
        "Training the model"
      ],
      "metadata": {
        "id": "ACrveTZTu4Wp"
      }
    },
    {
      "cell_type": "code",
      "source": [
        "# training the model\n",
        "for epoch in range(num_epochs): #epochs\n",
        "  model.train()\n",
        "  optimizer.zero_grad() #clear the gradients\n",
        "  outputs = model(X_train) #generate predictions\n",
        "  loss = criterion(outputs, y_train.view(-1,1))  #loss function\n",
        "  loss.backward() #backpropagation\n",
        "  optimizer.step() #update weights\n",
        "\n",
        "  # claculate accuracy\n",
        "  with torch.no_grad():\n",
        "    predicted = outputs.round()\n",
        "    correct = (predicted == y_train.view(-1,1)).float().sum() #calculate the number of correct predictions\n",
        "    accuracy = correct/y_train.size(0)\n",
        "\n",
        "  if (epoch+1) % 10 == 0:\n",
        "    print(f\"Epoch [{epoch+1}/{num_epochs}], Loss : {loss.item():.4f}, Accuracy: {accuracy.item() * 100:.2f}%\")"
      ],
      "metadata": {
        "colab": {
          "base_uri": "https://localhost:8080/"
        },
        "id": "Rdt1y_cLu6Df",
        "outputId": "2e4ccd41-f6ef-4375-9131-26e6983447ba"
      },
      "execution_count": 19,
      "outputs": [
        {
          "output_type": "stream",
          "name": "stdout",
          "text": [
            "Epoch [10/100], Loss : 0.5049, Accuracy: 93.41%\n",
            "Epoch [20/100], Loss : 0.3524, Accuracy: 93.85%\n",
            "Epoch [30/100], Loss : 0.2574, Accuracy: 94.07%\n",
            "Epoch [40/100], Loss : 0.1984, Accuracy: 95.16%\n",
            "Epoch [50/100], Loss : 0.1614, Accuracy: 95.82%\n",
            "Epoch [60/100], Loss : 0.1368, Accuracy: 96.70%\n",
            "Epoch [70/100], Loss : 0.1194, Accuracy: 97.36%\n",
            "Epoch [80/100], Loss : 0.1063, Accuracy: 97.58%\n",
            "Epoch [90/100], Loss : 0.0962, Accuracy: 98.02%\n",
            "Epoch [100/100], Loss : 0.0882, Accuracy: 98.24%\n"
          ]
        }
      ]
    },
    {
      "cell_type": "code",
      "source": [
        "# evaluation on training set\n",
        "model.eval()\n",
        "with torch.no_grad():\n",
        "  outputs = model(X_train)\n",
        "  predicted = outputs.round()\n",
        "  correct = (predicted == y_train.view(-1,1)).float().sum()\n",
        "  accuracy = correct/y_train.size(0)\n",
        "  print(f\"Accuracy on training data: {accuracy.item() * 100:.2f}%\")"
      ],
      "metadata": {
        "colab": {
          "base_uri": "https://localhost:8080/"
        },
        "id": "B6Wj9VjUvAIw",
        "outputId": "5b89596e-44c7-463d-9c8a-67ffd648be35"
      },
      "execution_count": 20,
      "outputs": [
        {
          "output_type": "stream",
          "name": "stdout",
          "text": [
            "Accuracy on training data: 98.24%\n"
          ]
        }
      ]
    },
    {
      "cell_type": "code",
      "source": [
        "# evaluation on test set\n",
        "model.eval()\n",
        "with torch.no_grad():\n",
        "  outputs = model(X_test)\n",
        "  predicted = outputs.round()\n",
        "  correct = (predicted == y_test.view(-1,1)).float().sum()\n",
        "  accuracy = correct/y_test.size(0)\n",
        "  print(f\"Accuracy on test data: {accuracy.item() * 100:.2f}%\")"
      ],
      "metadata": {
        "colab": {
          "base_uri": "https://localhost:8080/"
        },
        "id": "pax_cScyvIdk",
        "outputId": "2a6d775d-41c5-46c6-f79d-530227eb98ae"
      },
      "execution_count": 21,
      "outputs": [
        {
          "output_type": "stream",
          "name": "stdout",
          "text": [
            "Accuracy on test data: 98.25%\n"
          ]
        }
      ]
    }
  ]
}