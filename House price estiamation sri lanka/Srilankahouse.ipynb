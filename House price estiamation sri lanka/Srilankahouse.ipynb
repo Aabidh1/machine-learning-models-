{
 "cells": [
  {
   "cell_type": "code",
   "execution_count": 1,
   "metadata": {},
   "outputs": [],
   "source": [
    "import numpy as np\n",
    "import pandas as pd\n",
    "import matplotlib as plt\n",
    "import seaborn as sns"
   ]
  },
  {
   "cell_type": "code",
   "execution_count": 2,
   "metadata": {},
   "outputs": [],
   "source": [
    "df = pd.read_csv(r'C:\\Users\\aabidh musthaq\\Desktop\\MAchine lea projects\\Github\\machine-learning-models-\\House price estiamation sri lanka\\House price sri lanka.csv')"
   ]
  },
  {
   "cell_type": "code",
   "execution_count": 3,
   "metadata": {},
   "outputs": [
    {
     "data": {
      "text/html": [
       "<div>\n",
       "<style scoped>\n",
       "    .dataframe tbody tr th:only-of-type {\n",
       "        vertical-align: middle;\n",
       "    }\n",
       "\n",
       "    .dataframe tbody tr th {\n",
       "        vertical-align: top;\n",
       "    }\n",
       "\n",
       "    .dataframe thead th {\n",
       "        text-align: right;\n",
       "    }\n",
       "</style>\n",
       "<table border=\"1\" class=\"dataframe\">\n",
       "  <thead>\n",
       "    <tr style=\"text-align: right;\">\n",
       "      <th></th>\n",
       "      <th>Title</th>\n",
       "      <th>Sub_title</th>\n",
       "      <th>Price</th>\n",
       "      <th>Address</th>\n",
       "      <th>Baths</th>\n",
       "      <th>Land size</th>\n",
       "      <th>Beds</th>\n",
       "      <th>House size</th>\n",
       "      <th>Location</th>\n",
       "      <th>Description</th>\n",
       "      <th>Post_URL</th>\n",
       "      <th>Seller_name</th>\n",
       "      <th>Seller_type</th>\n",
       "      <th>published_date</th>\n",
       "      <th>Geo_Address</th>\n",
       "      <th>Lat</th>\n",
       "      <th>Lon</th>\n",
       "    </tr>\n",
       "  </thead>\n",
       "  <tbody>\n",
       "    <tr>\n",
       "      <th>0</th>\n",
       "      <td>House with Land for Sale in Matara for sale</td>\n",
       "      <td>Posted on 06 Nov 2:32 pm, Matara City, Matara</td>\n",
       "      <td>Rs 5,400,000</td>\n",
       "      <td>Gangodagama Roard,Hakmana,Matara.</td>\n",
       "      <td>1</td>\n",
       "      <td>50.0 perches</td>\n",
       "      <td>3</td>\n",
       "      <td>1,600.0 sqft</td>\n",
       "      <td>Matara City,  Matara</td>\n",
       "      <td>Land for sale with house Matara,Hakmana Gangod...</td>\n",
       "      <td>https://ikman.lk/en/ad/house-with-land-for-sal...</td>\n",
       "      <td>Ishara Dilshan</td>\n",
       "      <td>Member</td>\n",
       "      <td>2021-11-06 14:32:00</td>\n",
       "      <td>Matara City, Matara, Sri Lanka</td>\n",
       "      <td>80.500000</td>\n",
       "      <td>6.166670</td>\n",
       "    </tr>\n",
       "    <tr>\n",
       "      <th>1</th>\n",
       "      <td>à¶à¶½à·à¶­à· à¶à·à¶¸à¶» 3 à¶ à¶à·à· à...</td>\n",
       "      <td>Posted on 24 Oct 7:27 am, Athurugiriya, Colombo</td>\n",
       "      <td>Rs 16,800,000</td>\n",
       "      <td>Athurugiriya Galwarusapare</td>\n",
       "      <td>3</td>\n",
       "      <td>8.0 perches</td>\n",
       "      <td>3</td>\n",
       "      <td>1,480.0 sqft</td>\n",
       "      <td>Athurugiriya,  Colombo</td>\n",
       "      <td>*House For Sale In Athurugiriya *Galwarusapare...</td>\n",
       "      <td>https://ikman.lk/en/ad/alut-kaamr-3-k-grh-bhaa...</td>\n",
       "      <td>DILRUWAN REAL ESTATE</td>\n",
       "      <td>Premium-Member</td>\n",
       "      <td>2021-10-24 07:27:00</td>\n",
       "      <td>Athurugiriya, Colombo, Sri Lanka</td>\n",
       "      <td>79.989929</td>\n",
       "      <td>6.877246</td>\n",
       "    </tr>\n",
       "    <tr>\n",
       "      <th>2</th>\n",
       "      <td>Kelaniya - House on 20P Land for sale for sale</td>\n",
       "      <td>Posted on 17 Nov 5:19 pm, Kelaniya, Gampaha</td>\n",
       "      <td>Rs 20,000,000</td>\n",
       "      <td>Kelaniya- Ranaviru Maldeniya Road</td>\n",
       "      <td>2</td>\n",
       "      <td>20.0 perches</td>\n",
       "      <td>3</td>\n",
       "      <td>2,800.0 sqft</td>\n",
       "      <td>Kelaniya,  Gampaha</td>\n",
       "      <td>Kelaniya- Biyagama road, Ranaviru Maladeniya R...</td>\n",
       "      <td>https://ikman.lk/en/ad/kelaniya-house-on-20p-l...</td>\n",
       "      <td>Provident Paradise (Pvt) Ltd</td>\n",
       "      <td>Member</td>\n",
       "      <td>2021-11-17 17:19:00</td>\n",
       "      <td>Kelaniya, Gampaha, Sri Lanka</td>\n",
       "      <td>79.914926</td>\n",
       "      <td>6.951178</td>\n",
       "    </tr>\n",
       "    <tr>\n",
       "      <th>3</th>\n",
       "      <td>House For Sale in Pamankada Lane Wellawatte Co...</td>\n",
       "      <td>Posted on 17 Nov 5:07 pm, Colombo 6, Colombo</td>\n",
       "      <td>Rs 187,000,000</td>\n",
       "      <td>Pamankada Lane Wellawatte Colombo.06</td>\n",
       "      <td>5</td>\n",
       "      <td>22.0 perches</td>\n",
       "      <td>5</td>\n",
       "      <td>4,000.0 sqft</td>\n",
       "      <td>Colombo 6,  Colombo</td>\n",
       "      <td>22 Perches House For Sale in Pamankada Lane We...</td>\n",
       "      <td>https://ikman.lk/en/ad/house-for-sale-in-paman...</td>\n",
       "      <td>Colombo Construction Property Developers</td>\n",
       "      <td>Premium-Member</td>\n",
       "      <td>2021-11-17 17:07:00</td>\n",
       "      <td>Colombo 6, Colombo, Sri Lanka</td>\n",
       "      <td>80.016670</td>\n",
       "      <td>6.866670</td>\n",
       "    </tr>\n",
       "    <tr>\n",
       "      <th>4</th>\n",
       "      <td>House For Sale - Attidiya for sale</td>\n",
       "      <td>Posted on 17 Nov 5:06 pm, Dehiwala, Colombo</td>\n",
       "      <td>Rs 1,300,000</td>\n",
       "      <td>MainRoad Attidiya</td>\n",
       "      <td>1</td>\n",
       "      <td>6.3 perches</td>\n",
       "      <td>2</td>\n",
       "      <td>900.0 sqft</td>\n",
       "      <td>Dehiwala,  Colombo</td>\n",
       "      <td>*à¶à¶­à·à¶­à·à¶©à·à¶º à¶´à·âà¶»à¶¯à·à·...</td>\n",
       "      <td>https://ikman.lk/en/ad/house-for-sale-attidiya...</td>\n",
       "      <td>Lakdinu Houses</td>\n",
       "      <td>Member</td>\n",
       "      <td>2021-11-17 17:06:00</td>\n",
       "      <td>Dehiwala, Colombo, Sri Lanka</td>\n",
       "      <td>79.880242</td>\n",
       "      <td>6.838232</td>\n",
       "    </tr>\n",
       "  </tbody>\n",
       "</table>\n",
       "</div>"
      ],
      "text/plain": [
       "                                               Title  \\\n",
       "0        House with Land for Sale in Matara for sale   \n",
       "1  à¶\n",
       "à¶½à·à¶­à· à¶à·à¶¸à¶» 3 à¶ à¶à·à· à...   \n",
       "2     Kelaniya - House on 20P Land for sale for sale   \n",
       "3  House For Sale in Pamankada Lane Wellawatte Co...   \n",
       "4                 House For Sale - Attidiya for sale   \n",
       "\n",
       "                                         Sub_title           Price  \\\n",
       "0    Posted on 06 Nov 2:32 pm, Matara City, Matara    Rs 5,400,000   \n",
       "1  Posted on 24 Oct 7:27 am, Athurugiriya, Colombo   Rs 16,800,000   \n",
       "2      Posted on 17 Nov 5:19 pm, Kelaniya, Gampaha   Rs 20,000,000   \n",
       "3     Posted on 17 Nov 5:07 pm, Colombo 6, Colombo  Rs 187,000,000   \n",
       "4      Posted on 17 Nov 5:06 pm, Dehiwala, Colombo    Rs 1,300,000   \n",
       "\n",
       "                                Address Baths     Land size Beds  \\\n",
       "0     Gangodagama Roard,Hakmana,Matara.     1  50.0 perches    3   \n",
       "1            Athurugiriya Galwarusapare     3   8.0 perches    3   \n",
       "2     Kelaniya- Ranaviru Maldeniya Road     2  20.0 perches    3   \n",
       "3  Pamankada Lane Wellawatte Colombo.06     5  22.0 perches    5   \n",
       "4                     MainRoad Attidiya     1   6.3 perches    2   \n",
       "\n",
       "     House size                 Location  \\\n",
       "0  1,600.0 sqft     Matara City,  Matara   \n",
       "1  1,480.0 sqft   Athurugiriya,  Colombo   \n",
       "2  2,800.0 sqft       Kelaniya,  Gampaha   \n",
       "3  4,000.0 sqft      Colombo 6,  Colombo   \n",
       "4    900.0 sqft       Dehiwala,  Colombo   \n",
       "\n",
       "                                         Description  \\\n",
       "0  Land for sale with house Matara,Hakmana Gangod...   \n",
       "1  *House For Sale In Athurugiriya *Galwarusapare...   \n",
       "2  Kelaniya- Biyagama road, Ranaviru Maladeniya R...   \n",
       "3  22 Perches House For Sale in Pamankada Lane We...   \n",
       "4  *à¶\n",
       "à¶­à·à¶­à·à¶©à·à¶º à¶´à·âà¶»à¶¯à·à·...   \n",
       "\n",
       "                                            Post_URL  \\\n",
       "0  https://ikman.lk/en/ad/house-with-land-for-sal...   \n",
       "1  https://ikman.lk/en/ad/alut-kaamr-3-k-grh-bhaa...   \n",
       "2  https://ikman.lk/en/ad/kelaniya-house-on-20p-l...   \n",
       "3  https://ikman.lk/en/ad/house-for-sale-in-paman...   \n",
       "4  https://ikman.lk/en/ad/house-for-sale-attidiya...   \n",
       "\n",
       "                                Seller_name     Seller_type  \\\n",
       "0                            Ishara Dilshan          Member   \n",
       "1                      DILRUWAN REAL ESTATE  Premium-Member   \n",
       "2              Provident Paradise (Pvt) Ltd          Member   \n",
       "3  Colombo Construction Property Developers  Premium-Member   \n",
       "4                            Lakdinu Houses          Member   \n",
       "\n",
       "        published_date                       Geo_Address        Lat       Lon  \n",
       "0  2021-11-06 14:32:00    Matara City, Matara, Sri Lanka  80.500000  6.166670  \n",
       "1  2021-10-24 07:27:00  Athurugiriya, Colombo, Sri Lanka  79.989929  6.877246  \n",
       "2  2021-11-17 17:19:00      Kelaniya, Gampaha, Sri Lanka  79.914926  6.951178  \n",
       "3  2021-11-17 17:07:00     Colombo 6, Colombo, Sri Lanka  80.016670  6.866670  \n",
       "4  2021-11-17 17:06:00      Dehiwala, Colombo, Sri Lanka  79.880242  6.838232  "
      ]
     },
     "execution_count": 3,
     "metadata": {},
     "output_type": "execute_result"
    }
   ],
   "source": [
    "df.head()"
   ]
  },
  {
   "cell_type": "code",
   "execution_count": 4,
   "metadata": {},
   "outputs": [
    {
     "name": "stdout",
     "output_type": "stream",
     "text": [
      "<class 'pandas.core.frame.DataFrame'>\n",
      "RangeIndex: 15327 entries, 0 to 15326\n",
      "Data columns (total 17 columns):\n",
      " #   Column          Non-Null Count  Dtype  \n",
      "---  ------          --------------  -----  \n",
      " 0   Title           15327 non-null  object \n",
      " 1   Sub_title       15327 non-null  object \n",
      " 2   Price           15327 non-null  object \n",
      " 3   Address         11191 non-null  object \n",
      " 4   Baths           15327 non-null  object \n",
      " 5   Land size       15327 non-null  object \n",
      " 6   Beds            15327 non-null  object \n",
      " 7   House size      15327 non-null  object \n",
      " 8   Location        15327 non-null  object \n",
      " 9   Description     15327 non-null  object \n",
      " 10  Post_URL        15327 non-null  object \n",
      " 11  Seller_name     15327 non-null  object \n",
      " 12  Seller_type     15327 non-null  object \n",
      " 13  published_date  15327 non-null  object \n",
      " 14  Geo_Address     15327 non-null  object \n",
      " 15  Lat             15327 non-null  float64\n",
      " 16  Lon             15327 non-null  float64\n",
      "dtypes: float64(2), object(15)\n",
      "memory usage: 2.0+ MB\n"
     ]
    }
   ],
   "source": [
    "df.info()"
   ]
  },
  {
   "cell_type": "code",
   "execution_count": 5,
   "metadata": {},
   "outputs": [
    {
     "data": {
      "text/plain": [
       "['Title',\n",
       " 'Sub_title',\n",
       " 'Price',\n",
       " 'Address',\n",
       " 'Baths',\n",
       " 'Land size',\n",
       " 'Beds',\n",
       " 'House size',\n",
       " 'Location',\n",
       " 'Description',\n",
       " 'Post_URL',\n",
       " 'Seller_name',\n",
       " 'Seller_type',\n",
       " 'published_date',\n",
       " 'Geo_Address',\n",
       " 'Lat',\n",
       " 'Lon']"
      ]
     },
     "execution_count": 5,
     "metadata": {},
     "output_type": "execute_result"
    }
   ],
   "source": [
    "list(df.columns)"
   ]
  },
  {
   "cell_type": "code",
   "execution_count": 6,
   "metadata": {},
   "outputs": [],
   "source": [
    "df = df.drop(['Title','Sub_title', 'Post_URL','Seller_name','Seller_type','Description','Geo_Address','Lat','Lon','Address'], axis=1)"
   ]
  },
  {
   "cell_type": "code",
   "execution_count": 7,
   "metadata": {},
   "outputs": [
    {
     "data": {
      "text/html": [
       "<div>\n",
       "<style scoped>\n",
       "    .dataframe tbody tr th:only-of-type {\n",
       "        vertical-align: middle;\n",
       "    }\n",
       "\n",
       "    .dataframe tbody tr th {\n",
       "        vertical-align: top;\n",
       "    }\n",
       "\n",
       "    .dataframe thead th {\n",
       "        text-align: right;\n",
       "    }\n",
       "</style>\n",
       "<table border=\"1\" class=\"dataframe\">\n",
       "  <thead>\n",
       "    <tr style=\"text-align: right;\">\n",
       "      <th></th>\n",
       "      <th>Price</th>\n",
       "      <th>Baths</th>\n",
       "      <th>Land size</th>\n",
       "      <th>Beds</th>\n",
       "      <th>House size</th>\n",
       "      <th>Location</th>\n",
       "      <th>published_date</th>\n",
       "    </tr>\n",
       "  </thead>\n",
       "  <tbody>\n",
       "    <tr>\n",
       "      <th>0</th>\n",
       "      <td>Rs 5,400,000</td>\n",
       "      <td>1</td>\n",
       "      <td>50.0 perches</td>\n",
       "      <td>3</td>\n",
       "      <td>1,600.0 sqft</td>\n",
       "      <td>Matara City,  Matara</td>\n",
       "      <td>2021-11-06 14:32:00</td>\n",
       "    </tr>\n",
       "    <tr>\n",
       "      <th>1</th>\n",
       "      <td>Rs 16,800,000</td>\n",
       "      <td>3</td>\n",
       "      <td>8.0 perches</td>\n",
       "      <td>3</td>\n",
       "      <td>1,480.0 sqft</td>\n",
       "      <td>Athurugiriya,  Colombo</td>\n",
       "      <td>2021-10-24 07:27:00</td>\n",
       "    </tr>\n",
       "    <tr>\n",
       "      <th>2</th>\n",
       "      <td>Rs 20,000,000</td>\n",
       "      <td>2</td>\n",
       "      <td>20.0 perches</td>\n",
       "      <td>3</td>\n",
       "      <td>2,800.0 sqft</td>\n",
       "      <td>Kelaniya,  Gampaha</td>\n",
       "      <td>2021-11-17 17:19:00</td>\n",
       "    </tr>\n",
       "    <tr>\n",
       "      <th>3</th>\n",
       "      <td>Rs 187,000,000</td>\n",
       "      <td>5</td>\n",
       "      <td>22.0 perches</td>\n",
       "      <td>5</td>\n",
       "      <td>4,000.0 sqft</td>\n",
       "      <td>Colombo 6,  Colombo</td>\n",
       "      <td>2021-11-17 17:07:00</td>\n",
       "    </tr>\n",
       "    <tr>\n",
       "      <th>4</th>\n",
       "      <td>Rs 1,300,000</td>\n",
       "      <td>1</td>\n",
       "      <td>6.3 perches</td>\n",
       "      <td>2</td>\n",
       "      <td>900.0 sqft</td>\n",
       "      <td>Dehiwala,  Colombo</td>\n",
       "      <td>2021-11-17 17:06:00</td>\n",
       "    </tr>\n",
       "  </tbody>\n",
       "</table>\n",
       "</div>"
      ],
      "text/plain": [
       "            Price Baths     Land size Beds    House size  \\\n",
       "0    Rs 5,400,000     1  50.0 perches    3  1,600.0 sqft   \n",
       "1   Rs 16,800,000     3   8.0 perches    3  1,480.0 sqft   \n",
       "2   Rs 20,000,000     2  20.0 perches    3  2,800.0 sqft   \n",
       "3  Rs 187,000,000     5  22.0 perches    5  4,000.0 sqft   \n",
       "4    Rs 1,300,000     1   6.3 perches    2    900.0 sqft   \n",
       "\n",
       "                  Location       published_date  \n",
       "0     Matara City,  Matara  2021-11-06 14:32:00  \n",
       "1   Athurugiriya,  Colombo  2021-10-24 07:27:00  \n",
       "2       Kelaniya,  Gampaha  2021-11-17 17:19:00  \n",
       "3      Colombo 6,  Colombo  2021-11-17 17:07:00  \n",
       "4       Dehiwala,  Colombo  2021-11-17 17:06:00  "
      ]
     },
     "execution_count": 7,
     "metadata": {},
     "output_type": "execute_result"
    }
   ],
   "source": [
    "df.head()"
   ]
  },
  {
   "cell_type": "code",
   "execution_count": 8,
   "metadata": {},
   "outputs": [
    {
     "name": "stdout",
     "output_type": "stream",
     "text": [
      "<class 'pandas.core.frame.DataFrame'>\n",
      "RangeIndex: 15327 entries, 0 to 15326\n",
      "Data columns (total 7 columns):\n",
      " #   Column          Non-Null Count  Dtype \n",
      "---  ------          --------------  ----- \n",
      " 0   Price           15327 non-null  object\n",
      " 1   Baths           15327 non-null  object\n",
      " 2   Land size       15327 non-null  object\n",
      " 3   Beds            15327 non-null  object\n",
      " 4   House size      15327 non-null  object\n",
      " 5   Location        15327 non-null  object\n",
      " 6   published_date  15327 non-null  object\n",
      "dtypes: object(7)\n",
      "memory usage: 838.3+ KB\n"
     ]
    }
   ],
   "source": [
    "df.info()"
   ]
  },
  {
   "cell_type": "code",
   "execution_count": 9,
   "metadata": {},
   "outputs": [],
   "source": [
    "df['Price'] = df['Price'].str.replace('Rs', '').str.replace(',', '').astype(float)"
   ]
  },
  {
   "cell_type": "code",
   "execution_count": null,
   "metadata": {},
   "outputs": [],
   "source": [
    "df['Baths'] = df[\"Baths\"].astype(int)\n",
    "df['Beds'] = df[\"Beds\"].astype(int)"
   ]
  },
  {
   "cell_type": "code",
   "execution_count": 10,
   "metadata": {},
   "outputs": [
    {
     "name": "stdout",
     "output_type": "stream",
     "text": [
      "<class 'pandas.core.frame.DataFrame'>\n",
      "RangeIndex: 15327 entries, 0 to 15326\n",
      "Data columns (total 7 columns):\n",
      " #   Column          Non-Null Count  Dtype  \n",
      "---  ------          --------------  -----  \n",
      " 0   Price           15327 non-null  float64\n",
      " 1   Baths           15327 non-null  object \n",
      " 2   Land size       15327 non-null  object \n",
      " 3   Beds            15327 non-null  object \n",
      " 4   House size      15327 non-null  object \n",
      " 5   Location        15327 non-null  object \n",
      " 6   published_date  15327 non-null  object \n",
      "dtypes: float64(1), object(6)\n",
      "memory usage: 838.3+ KB\n"
     ]
    }
   ],
   "source": [
    "df.info()"
   ]
  },
  {
   "cell_type": "code",
   "execution_count": 11,
   "metadata": {},
   "outputs": [
    {
     "data": {
      "text/html": [
       "<div>\n",
       "<style scoped>\n",
       "    .dataframe tbody tr th:only-of-type {\n",
       "        vertical-align: middle;\n",
       "    }\n",
       "\n",
       "    .dataframe tbody tr th {\n",
       "        vertical-align: top;\n",
       "    }\n",
       "\n",
       "    .dataframe thead th {\n",
       "        text-align: right;\n",
       "    }\n",
       "</style>\n",
       "<table border=\"1\" class=\"dataframe\">\n",
       "  <thead>\n",
       "    <tr style=\"text-align: right;\">\n",
       "      <th></th>\n",
       "      <th>Price</th>\n",
       "      <th>Baths</th>\n",
       "      <th>Land size</th>\n",
       "      <th>Beds</th>\n",
       "      <th>House size</th>\n",
       "      <th>Location</th>\n",
       "      <th>published_date</th>\n",
       "    </tr>\n",
       "  </thead>\n",
       "  <tbody>\n",
       "    <tr>\n",
       "      <th>0</th>\n",
       "      <td>5400000.0</td>\n",
       "      <td>1</td>\n",
       "      <td>50.0 perches</td>\n",
       "      <td>3</td>\n",
       "      <td>1,600.0 sqft</td>\n",
       "      <td>Matara City,  Matara</td>\n",
       "      <td>2021-11-06 14:32:00</td>\n",
       "    </tr>\n",
       "    <tr>\n",
       "      <th>1</th>\n",
       "      <td>16800000.0</td>\n",
       "      <td>3</td>\n",
       "      <td>8.0 perches</td>\n",
       "      <td>3</td>\n",
       "      <td>1,480.0 sqft</td>\n",
       "      <td>Athurugiriya,  Colombo</td>\n",
       "      <td>2021-10-24 07:27:00</td>\n",
       "    </tr>\n",
       "    <tr>\n",
       "      <th>2</th>\n",
       "      <td>20000000.0</td>\n",
       "      <td>2</td>\n",
       "      <td>20.0 perches</td>\n",
       "      <td>3</td>\n",
       "      <td>2,800.0 sqft</td>\n",
       "      <td>Kelaniya,  Gampaha</td>\n",
       "      <td>2021-11-17 17:19:00</td>\n",
       "    </tr>\n",
       "    <tr>\n",
       "      <th>3</th>\n",
       "      <td>187000000.0</td>\n",
       "      <td>5</td>\n",
       "      <td>22.0 perches</td>\n",
       "      <td>5</td>\n",
       "      <td>4,000.0 sqft</td>\n",
       "      <td>Colombo 6,  Colombo</td>\n",
       "      <td>2021-11-17 17:07:00</td>\n",
       "    </tr>\n",
       "    <tr>\n",
       "      <th>4</th>\n",
       "      <td>1300000.0</td>\n",
       "      <td>1</td>\n",
       "      <td>6.3 perches</td>\n",
       "      <td>2</td>\n",
       "      <td>900.0 sqft</td>\n",
       "      <td>Dehiwala,  Colombo</td>\n",
       "      <td>2021-11-17 17:06:00</td>\n",
       "    </tr>\n",
       "  </tbody>\n",
       "</table>\n",
       "</div>"
      ],
      "text/plain": [
       "         Price Baths     Land size Beds    House size  \\\n",
       "0    5400000.0     1  50.0 perches    3  1,600.0 sqft   \n",
       "1   16800000.0     3   8.0 perches    3  1,480.0 sqft   \n",
       "2   20000000.0     2  20.0 perches    3  2,800.0 sqft   \n",
       "3  187000000.0     5  22.0 perches    5  4,000.0 sqft   \n",
       "4    1300000.0     1   6.3 perches    2    900.0 sqft   \n",
       "\n",
       "                  Location       published_date  \n",
       "0     Matara City,  Matara  2021-11-06 14:32:00  \n",
       "1   Athurugiriya,  Colombo  2021-10-24 07:27:00  \n",
       "2       Kelaniya,  Gampaha  2021-11-17 17:19:00  \n",
       "3      Colombo 6,  Colombo  2021-11-17 17:07:00  \n",
       "4       Dehiwala,  Colombo  2021-11-17 17:06:00  "
      ]
     },
     "execution_count": 11,
     "metadata": {},
     "output_type": "execute_result"
    }
   ],
   "source": [
    "df.head()"
   ]
  },
  {
   "cell_type": "code",
   "execution_count": 12,
   "metadata": {},
   "outputs": [
    {
     "data": {
      "text/plain": [
       "691"
      ]
     },
     "execution_count": 12,
     "metadata": {},
     "output_type": "execute_result"
    }
   ],
   "source": [
    "df.duplicated().sum()"
   ]
  },
  {
   "cell_type": "code",
   "execution_count": 13,
   "metadata": {},
   "outputs": [],
   "source": [
    "df.drop_duplicates(inplace=True)"
   ]
  },
  {
   "cell_type": "code",
   "execution_count": 14,
   "metadata": {},
   "outputs": [
    {
     "data": {
      "text/plain": [
       "Price             0\n",
       "Baths             0\n",
       "Land size         0\n",
       "Beds              0\n",
       "House size        0\n",
       "Location          0\n",
       "published_date    0\n",
       "dtype: int64"
      ]
     },
     "execution_count": 14,
     "metadata": {},
     "output_type": "execute_result"
    }
   ],
   "source": [
    "df.isnull().sum()"
   ]
  },
  {
   "cell_type": "code",
   "execution_count": 15,
   "metadata": {},
   "outputs": [
    {
     "data": {
      "text/plain": [
       "(14636, 7)"
      ]
     },
     "execution_count": 15,
     "metadata": {},
     "output_type": "execute_result"
    }
   ],
   "source": [
    "df.shape"
   ]
  },
  {
   "cell_type": "code",
   "execution_count": 16,
   "metadata": {},
   "outputs": [
    {
     "data": {
      "text/plain": [
       "<Axes: >"
      ]
     },
     "execution_count": 16,
     "metadata": {},
     "output_type": "execute_result"
    },
    {
     "data": {
      "image/png": "[encoded data removed]",
      "text/plain": [
       "<Figure size 640x480 with 1 Axes>"
      ]
     },
     "metadata": {},
     "output_type": "display_data"
    }
   ],
   "source": [
    "sns.heatmap(df.isnull(),yticklabels=False,cbar=False,cmap='viridis')"
   ]
  }
 ],
 "metadata": {
  "kernelspec": {
   "display_name": "Python 3",
   "language": "python",
   "name": "python3"
  },
  "language_info": {
   "codemirror_mode": {
    "name": "ipython",
    "version": 3
   },
   "file_extension": ".py",
   "mimetype": "text/x-python",
   "name": "python",
   "nbconvert_exporter": "python",
   "pygments_lexer": "ipython3",
   "version": "3.10.6"
  }
 },
 "nbformat": 4,
 "nbformat_minor": 2
}
