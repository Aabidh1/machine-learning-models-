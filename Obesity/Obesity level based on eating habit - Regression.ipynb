{
 "cells": [
  {
   "cell_type": "code",
   "execution_count": 1,
   "id": "bcdcd30c",
   "metadata": {},
   "outputs": [],
   "source": [
    "import numpy as np\n",
    "import pandas as pd "
   ]
  },
  {
   "cell_type": "code",
   "execution_count": 2,
   "id": "e3c90b83",
   "metadata": {},
   "outputs": [],
   "source": [
    "df = pd.read_csv(r\"C:\\Users\\aabidh musthaq\\Desktop\\machine lerning assaigment\\ObesityDataSet_raw_and_data_sinthetic.csv\")"
   ]
  },
  {
   "cell_type": "markdown",
   "id": "7f702186",
   "metadata": {},
   "source": [
    "## Data Exploration and Preprocessing"
   ]
  },
  {
   "cell_type": "code",
   "execution_count": 3,
   "id": "ebe7cf05",
   "metadata": {},
   "outputs": [
    {
     "data": {
      "text/html": [
       "<div>\n",
       "<style scoped>\n",
       "    .dataframe tbody tr th:only-of-type {\n",
       "        vertical-align: middle;\n",
       "    }\n",
       "\n",
       "    .dataframe tbody tr th {\n",
       "        vertical-align: top;\n",
       "    }\n",
       "\n",
       "    .dataframe thead th {\n",
       "        text-align: right;\n",
       "    }\n",
       "</style>\n",
       "<table border=\"1\" class=\"dataframe\">\n",
       "  <thead>\n",
       "    <tr style=\"text-align: right;\">\n",
       "      <th></th>\n",
       "      <th>Gender</th>\n",
       "      <th>Age</th>\n",
       "      <th>Height</th>\n",
       "      <th>Weight</th>\n",
       "      <th>family_history_with_overweight</th>\n",
       "      <th>FAVC</th>\n",
       "      <th>FCVC</th>\n",
       "      <th>NCP</th>\n",
       "      <th>CAEC</th>\n",
       "      <th>SMOKE</th>\n",
       "      <th>CH2O</th>\n",
       "      <th>SCC</th>\n",
       "      <th>FAF</th>\n",
       "      <th>TUE</th>\n",
       "      <th>CALC</th>\n",
       "      <th>MTRANS</th>\n",
       "      <th>NObeyesdad</th>\n",
       "    </tr>\n",
       "  </thead>\n",
       "  <tbody>\n",
       "    <tr>\n",
       "      <th>0</th>\n",
       "      <td>Female</td>\n",
       "      <td>21.0</td>\n",
       "      <td>1.62</td>\n",
       "      <td>64.0</td>\n",
       "      <td>yes</td>\n",
       "      <td>no</td>\n",
       "      <td>2.0</td>\n",
       "      <td>3.0</td>\n",
       "      <td>Sometimes</td>\n",
       "      <td>no</td>\n",
       "      <td>2.0</td>\n",
       "      <td>no</td>\n",
       "      <td>0.0</td>\n",
       "      <td>1.0</td>\n",
       "      <td>no</td>\n",
       "      <td>Public_Transportation</td>\n",
       "      <td>Normal_Weight</td>\n",
       "    </tr>\n",
       "    <tr>\n",
       "      <th>1</th>\n",
       "      <td>Female</td>\n",
       "      <td>21.0</td>\n",
       "      <td>1.52</td>\n",
       "      <td>56.0</td>\n",
       "      <td>yes</td>\n",
       "      <td>no</td>\n",
       "      <td>3.0</td>\n",
       "      <td>3.0</td>\n",
       "      <td>Sometimes</td>\n",
       "      <td>yes</td>\n",
       "      <td>3.0</td>\n",
       "      <td>yes</td>\n",
       "      <td>3.0</td>\n",
       "      <td>0.0</td>\n",
       "      <td>Sometimes</td>\n",
       "      <td>Public_Transportation</td>\n",
       "      <td>Normal_Weight</td>\n",
       "    </tr>\n",
       "    <tr>\n",
       "      <th>2</th>\n",
       "      <td>Male</td>\n",
       "      <td>23.0</td>\n",
       "      <td>1.80</td>\n",
       "      <td>77.0</td>\n",
       "      <td>yes</td>\n",
       "      <td>no</td>\n",
       "      <td>2.0</td>\n",
       "      <td>3.0</td>\n",
       "      <td>Sometimes</td>\n",
       "      <td>no</td>\n",
       "      <td>2.0</td>\n",
       "      <td>no</td>\n",
       "      <td>2.0</td>\n",
       "      <td>1.0</td>\n",
       "      <td>Frequently</td>\n",
       "      <td>Public_Transportation</td>\n",
       "      <td>Normal_Weight</td>\n",
       "    </tr>\n",
       "    <tr>\n",
       "      <th>3</th>\n",
       "      <td>Male</td>\n",
       "      <td>27.0</td>\n",
       "      <td>1.80</td>\n",
       "      <td>87.0</td>\n",
       "      <td>no</td>\n",
       "      <td>no</td>\n",
       "      <td>3.0</td>\n",
       "      <td>3.0</td>\n",
       "      <td>Sometimes</td>\n",
       "      <td>no</td>\n",
       "      <td>2.0</td>\n",
       "      <td>no</td>\n",
       "      <td>2.0</td>\n",
       "      <td>0.0</td>\n",
       "      <td>Frequently</td>\n",
       "      <td>Walking</td>\n",
       "      <td>Overweight_Level_I</td>\n",
       "    </tr>\n",
       "    <tr>\n",
       "      <th>4</th>\n",
       "      <td>Male</td>\n",
       "      <td>22.0</td>\n",
       "      <td>1.78</td>\n",
       "      <td>89.8</td>\n",
       "      <td>no</td>\n",
       "      <td>no</td>\n",
       "      <td>2.0</td>\n",
       "      <td>1.0</td>\n",
       "      <td>Sometimes</td>\n",
       "      <td>no</td>\n",
       "      <td>2.0</td>\n",
       "      <td>no</td>\n",
       "      <td>0.0</td>\n",
       "      <td>0.0</td>\n",
       "      <td>Sometimes</td>\n",
       "      <td>Public_Transportation</td>\n",
       "      <td>Overweight_Level_II</td>\n",
       "    </tr>\n",
       "  </tbody>\n",
       "</table>\n",
       "</div>"
      ],
      "text/plain": [
       "   Gender   Age  Height  Weight family_history_with_overweight FAVC  FCVC  \\\n",
       "0  Female  21.0    1.62    64.0                            yes   no   2.0   \n",
       "1  Female  21.0    1.52    56.0                            yes   no   3.0   \n",
       "2    Male  23.0    1.80    77.0                            yes   no   2.0   \n",
       "3    Male  27.0    1.80    87.0                             no   no   3.0   \n",
       "4    Male  22.0    1.78    89.8                             no   no   2.0   \n",
       "\n",
       "   NCP       CAEC SMOKE  CH2O  SCC  FAF  TUE        CALC  \\\n",
       "0  3.0  Sometimes    no   2.0   no  0.0  1.0          no   \n",
       "1  3.0  Sometimes   yes   3.0  yes  3.0  0.0   Sometimes   \n",
       "2  3.0  Sometimes    no   2.0   no  2.0  1.0  Frequently   \n",
       "3  3.0  Sometimes    no   2.0   no  2.0  0.0  Frequently   \n",
       "4  1.0  Sometimes    no   2.0   no  0.0  0.0   Sometimes   \n",
       "\n",
       "                  MTRANS           NObeyesdad  \n",
       "0  Public_Transportation        Normal_Weight  \n",
       "1  Public_Transportation        Normal_Weight  \n",
       "2  Public_Transportation        Normal_Weight  \n",
       "3                Walking   Overweight_Level_I  \n",
       "4  Public_Transportation  Overweight_Level_II  "
      ]
     },
     "execution_count": 3,
     "metadata": {},
     "output_type": "execute_result"
    }
   ],
   "source": [
    "df.head()"
   ]
  },
  {
   "cell_type": "code",
   "execution_count": 4,
   "id": "98164a45",
   "metadata": {},
   "outputs": [
    {
     "data": {
      "text/html": [
       "<div>\n",
       "<style scoped>\n",
       "    .dataframe tbody tr th:only-of-type {\n",
       "        vertical-align: middle;\n",
       "    }\n",
       "\n",
       "    .dataframe tbody tr th {\n",
       "        vertical-align: top;\n",
       "    }\n",
       "\n",
       "    .dataframe thead th {\n",
       "        text-align: right;\n",
       "    }\n",
       "</style>\n",
       "<table border=\"1\" class=\"dataframe\">\n",
       "  <thead>\n",
       "    <tr style=\"text-align: right;\">\n",
       "      <th></th>\n",
       "      <th>Gender</th>\n",
       "      <th>Age</th>\n",
       "      <th>Height</th>\n",
       "      <th>Weight</th>\n",
       "      <th>family_history_with_overweight</th>\n",
       "      <th>FAVC</th>\n",
       "      <th>FCVC</th>\n",
       "      <th>NCP</th>\n",
       "      <th>CAEC</th>\n",
       "      <th>SMOKE</th>\n",
       "      <th>CH2O</th>\n",
       "      <th>SCC</th>\n",
       "      <th>FAF</th>\n",
       "      <th>TUE</th>\n",
       "      <th>CALC</th>\n",
       "      <th>MTRANS</th>\n",
       "      <th>NObeyesdad</th>\n",
       "    </tr>\n",
       "  </thead>\n",
       "  <tbody>\n",
       "    <tr>\n",
       "      <th>2106</th>\n",
       "      <td>Female</td>\n",
       "      <td>20.976842</td>\n",
       "      <td>1.710730</td>\n",
       "      <td>131.408528</td>\n",
       "      <td>yes</td>\n",
       "      <td>yes</td>\n",
       "      <td>3.0</td>\n",
       "      <td>3.0</td>\n",
       "      <td>Sometimes</td>\n",
       "      <td>no</td>\n",
       "      <td>1.728139</td>\n",
       "      <td>no</td>\n",
       "      <td>1.676269</td>\n",
       "      <td>0.906247</td>\n",
       "      <td>Sometimes</td>\n",
       "      <td>Public_Transportation</td>\n",
       "      <td>Obesity_Type_III</td>\n",
       "    </tr>\n",
       "    <tr>\n",
       "      <th>2107</th>\n",
       "      <td>Female</td>\n",
       "      <td>21.982942</td>\n",
       "      <td>1.748584</td>\n",
       "      <td>133.742943</td>\n",
       "      <td>yes</td>\n",
       "      <td>yes</td>\n",
       "      <td>3.0</td>\n",
       "      <td>3.0</td>\n",
       "      <td>Sometimes</td>\n",
       "      <td>no</td>\n",
       "      <td>2.005130</td>\n",
       "      <td>no</td>\n",
       "      <td>1.341390</td>\n",
       "      <td>0.599270</td>\n",
       "      <td>Sometimes</td>\n",
       "      <td>Public_Transportation</td>\n",
       "      <td>Obesity_Type_III</td>\n",
       "    </tr>\n",
       "    <tr>\n",
       "      <th>2108</th>\n",
       "      <td>Female</td>\n",
       "      <td>22.524036</td>\n",
       "      <td>1.752206</td>\n",
       "      <td>133.689352</td>\n",
       "      <td>yes</td>\n",
       "      <td>yes</td>\n",
       "      <td>3.0</td>\n",
       "      <td>3.0</td>\n",
       "      <td>Sometimes</td>\n",
       "      <td>no</td>\n",
       "      <td>2.054193</td>\n",
       "      <td>no</td>\n",
       "      <td>1.414209</td>\n",
       "      <td>0.646288</td>\n",
       "      <td>Sometimes</td>\n",
       "      <td>Public_Transportation</td>\n",
       "      <td>Obesity_Type_III</td>\n",
       "    </tr>\n",
       "    <tr>\n",
       "      <th>2109</th>\n",
       "      <td>Female</td>\n",
       "      <td>24.361936</td>\n",
       "      <td>1.739450</td>\n",
       "      <td>133.346641</td>\n",
       "      <td>yes</td>\n",
       "      <td>yes</td>\n",
       "      <td>3.0</td>\n",
       "      <td>3.0</td>\n",
       "      <td>Sometimes</td>\n",
       "      <td>no</td>\n",
       "      <td>2.852339</td>\n",
       "      <td>no</td>\n",
       "      <td>1.139107</td>\n",
       "      <td>0.586035</td>\n",
       "      <td>Sometimes</td>\n",
       "      <td>Public_Transportation</td>\n",
       "      <td>Obesity_Type_III</td>\n",
       "    </tr>\n",
       "    <tr>\n",
       "      <th>2110</th>\n",
       "      <td>Female</td>\n",
       "      <td>23.664709</td>\n",
       "      <td>1.738836</td>\n",
       "      <td>133.472641</td>\n",
       "      <td>yes</td>\n",
       "      <td>yes</td>\n",
       "      <td>3.0</td>\n",
       "      <td>3.0</td>\n",
       "      <td>Sometimes</td>\n",
       "      <td>no</td>\n",
       "      <td>2.863513</td>\n",
       "      <td>no</td>\n",
       "      <td>1.026452</td>\n",
       "      <td>0.714137</td>\n",
       "      <td>Sometimes</td>\n",
       "      <td>Public_Transportation</td>\n",
       "      <td>Obesity_Type_III</td>\n",
       "    </tr>\n",
       "  </tbody>\n",
       "</table>\n",
       "</div>"
      ],
      "text/plain": [
       "      Gender        Age    Height      Weight family_history_with_overweight  \\\n",
       "2106  Female  20.976842  1.710730  131.408528                            yes   \n",
       "2107  Female  21.982942  1.748584  133.742943                            yes   \n",
       "2108  Female  22.524036  1.752206  133.689352                            yes   \n",
       "2109  Female  24.361936  1.739450  133.346641                            yes   \n",
       "2110  Female  23.664709  1.738836  133.472641                            yes   \n",
       "\n",
       "     FAVC  FCVC  NCP       CAEC SMOKE      CH2O SCC       FAF       TUE  \\\n",
       "2106  yes   3.0  3.0  Sometimes    no  1.728139  no  1.676269  0.906247   \n",
       "2107  yes   3.0  3.0  Sometimes    no  2.005130  no  1.341390  0.599270   \n",
       "2108  yes   3.0  3.0  Sometimes    no  2.054193  no  1.414209  0.646288   \n",
       "2109  yes   3.0  3.0  Sometimes    no  2.852339  no  1.139107  0.586035   \n",
       "2110  yes   3.0  3.0  Sometimes    no  2.863513  no  1.026452  0.714137   \n",
       "\n",
       "           CALC                 MTRANS        NObeyesdad  \n",
       "2106  Sometimes  Public_Transportation  Obesity_Type_III  \n",
       "2107  Sometimes  Public_Transportation  Obesity_Type_III  \n",
       "2108  Sometimes  Public_Transportation  Obesity_Type_III  \n",
       "2109  Sometimes  Public_Transportation  Obesity_Type_III  \n",
       "2110  Sometimes  Public_Transportation  Obesity_Type_III  "
      ]
     },
     "execution_count": 4,
     "metadata": {},
     "output_type": "execute_result"
    }
   ],
   "source": [
    "df.tail()"
   ]
  },
  {
   "cell_type": "code",
   "execution_count": 5,
   "id": "32b107a0",
   "metadata": {},
   "outputs": [
    {
     "data": {
      "text/plain": [
       "(2111, 17)"
      ]
     },
     "execution_count": 5,
     "metadata": {},
     "output_type": "execute_result"
    }
   ],
   "source": [
    "df.shape"
   ]
  },
  {
   "cell_type": "code",
   "execution_count": 6,
   "id": "dfe0aa6f",
   "metadata": {},
   "outputs": [
    {
     "data": {
      "text/plain": [
       "24"
      ]
     },
     "execution_count": 6,
     "metadata": {},
     "output_type": "execute_result"
    }
   ],
   "source": [
    "df.duplicated().sum() #duplicate 12 "
   ]
  },
  {
   "cell_type": "code",
   "execution_count": 7,
   "id": "59597d9d",
   "metadata": {},
   "outputs": [
    {
     "data": {
      "text/plain": [
       "Gender                            0.0\n",
       "Age                               0.0\n",
       "Height                            0.0\n",
       "Weight                            0.0\n",
       "family_history_with_overweight    0.0\n",
       "FAVC                              0.0\n",
       "FCVC                              0.0\n",
       "NCP                               0.0\n",
       "CAEC                              0.0\n",
       "SMOKE                             0.0\n",
       "CH2O                              0.0\n",
       "SCC                               0.0\n",
       "FAF                               0.0\n",
       "TUE                               0.0\n",
       "CALC                              0.0\n",
       "MTRANS                            0.0\n",
       "NObeyesdad                        0.0\n",
       "dtype: float64"
      ]
     },
     "execution_count": 7,
     "metadata": {},
     "output_type": "execute_result"
    }
   ],
   "source": [
    "round((df.isnull().sum()/df.shape[0])*100,2) #checking null value %"
   ]
  },
  {
   "cell_type": "code",
   "execution_count": 8,
   "id": "610a837f",
   "metadata": {},
   "outputs": [
    {
     "name": "stdout",
     "output_type": "stream",
     "text": [
      "<class 'pandas.core.frame.DataFrame'>\n",
      "RangeIndex: 2111 entries, 0 to 2110\n",
      "Data columns (total 17 columns):\n",
      " #   Column                          Non-Null Count  Dtype  \n",
      "---  ------                          --------------  -----  \n",
      " 0   Gender                          2111 non-null   object \n",
      " 1   Age                             2111 non-null   float64\n",
      " 2   Height                          2111 non-null   float64\n",
      " 3   Weight                          2111 non-null   float64\n",
      " 4   family_history_with_overweight  2111 non-null   object \n",
      " 5   FAVC                            2111 non-null   object \n",
      " 6   FCVC                            2111 non-null   float64\n",
      " 7   NCP                             2111 non-null   float64\n",
      " 8   CAEC                            2111 non-null   object \n",
      " 9   SMOKE                           2111 non-null   object \n",
      " 10  CH2O                            2111 non-null   float64\n",
      " 11  SCC                             2111 non-null   object \n",
      " 12  FAF                             2111 non-null   float64\n",
      " 13  TUE                             2111 non-null   float64\n",
      " 14  CALC                            2111 non-null   object \n",
      " 15  MTRANS                          2111 non-null   object \n",
      " 16  NObeyesdad                      2111 non-null   object \n",
      "dtypes: float64(8), object(9)\n",
      "memory usage: 280.5+ KB\n"
     ]
    }
   ],
   "source": [
    "df.info() #age integer, "
   ]
  },
  {
   "cell_type": "code",
   "execution_count": 9,
   "id": "3326e7ad",
   "metadata": {},
   "outputs": [
    {
     "data": {
      "text/plain": [
       "Obesity_Type_I         351\n",
       "Obesity_Type_III       324\n",
       "Obesity_Type_II        297\n",
       "Overweight_Level_I     290\n",
       "Overweight_Level_II    290\n",
       "Normal_Weight          287\n",
       "Insufficient_Weight    272\n",
       "Name: NObeyesdad, dtype: int64"
      ]
     },
     "execution_count": 9,
     "metadata": {},
     "output_type": "execute_result"
    }
   ],
   "source": [
    "df[\"NObeyesdad\"].value_counts()"
   ]
  },
  {
   "cell_type": "code",
   "execution_count": 10,
   "id": "e94a470c",
   "metadata": {},
   "outputs": [
    {
     "data": {
      "text/plain": [
       "yes    1866\n",
       "no      245\n",
       "Name: FAVC, dtype: int64"
      ]
     },
     "execution_count": 10,
     "metadata": {},
     "output_type": "execute_result"
    }
   ],
   "source": [
    "df[\"FAVC\"].value_counts()"
   ]
  },
  {
   "cell_type": "code",
   "execution_count": 11,
   "id": "5846cc9b",
   "metadata": {},
   "outputs": [
    {
     "data": {
      "text/plain": [
       "Sometimes     1765\n",
       "Frequently     242\n",
       "Always          53\n",
       "no              51\n",
       "Name: CAEC, dtype: int64"
      ]
     },
     "execution_count": 11,
     "metadata": {},
     "output_type": "execute_result"
    }
   ],
   "source": [
    "df[\"CAEC\"].value_counts()"
   ]
  },
  {
   "cell_type": "code",
   "execution_count": 12,
   "id": "8855dadc",
   "metadata": {},
   "outputs": [
    {
     "data": {
      "text/plain": [
       "no     2067\n",
       "yes      44\n",
       "Name: SMOKE, dtype: int64"
      ]
     },
     "execution_count": 12,
     "metadata": {},
     "output_type": "execute_result"
    }
   ],
   "source": [
    "df[\"SMOKE\"].value_counts()"
   ]
  },
  {
   "cell_type": "code",
   "execution_count": 13,
   "id": "e259ac85",
   "metadata": {},
   "outputs": [
    {
     "data": {
      "text/plain": [
       "Public_Transportation    1580\n",
       "Automobile                457\n",
       "Walking                    56\n",
       "Motorbike                  11\n",
       "Bike                        7\n",
       "Name: MTRANS, dtype: int64"
      ]
     },
     "execution_count": 13,
     "metadata": {},
     "output_type": "execute_result"
    }
   ],
   "source": [
    "df[\"MTRANS\"].value_counts()"
   ]
  },
  {
   "cell_type": "code",
   "execution_count": 14,
   "id": "9ff44d06",
   "metadata": {},
   "outputs": [
    {
     "data": {
      "text/plain": [
       "Male      1068\n",
       "Female    1043\n",
       "Name: Gender, dtype: int64"
      ]
     },
     "execution_count": 14,
     "metadata": {},
     "output_type": "execute_result"
    }
   ],
   "source": [
    "df[\"Gender\"].value_counts()"
   ]
  },
  {
   "cell_type": "code",
   "execution_count": 15,
   "id": "80fa4cb4",
   "metadata": {},
   "outputs": [
    {
     "data": {
      "text/plain": [
       "yes    1726\n",
       "no      385\n",
       "Name: family_history_with_overweight, dtype: int64"
      ]
     },
     "execution_count": 15,
     "metadata": {},
     "output_type": "execute_result"
    }
   ],
   "source": [
    "df[\"family_history_with_overweight\"].value_counts()"
   ]
  },
  {
   "cell_type": "code",
   "execution_count": 16,
   "id": "55575ede",
   "metadata": {},
   "outputs": [
    {
     "data": {
      "text/plain": [
       "no     2015\n",
       "yes      96\n",
       "Name: SCC, dtype: int64"
      ]
     },
     "execution_count": 16,
     "metadata": {},
     "output_type": "execute_result"
    }
   ],
   "source": [
    "df[\"SCC\"].value_counts()"
   ]
  },
  {
   "cell_type": "code",
   "execution_count": 17,
   "id": "576c3082",
   "metadata": {},
   "outputs": [],
   "source": [
    "df = df.drop_duplicates()"
   ]
  },
  {
   "cell_type": "code",
   "execution_count": 18,
   "id": "517c9174",
   "metadata": {},
   "outputs": [],
   "source": [
    "df = df.reset_index()"
   ]
  },
  {
   "cell_type": "code",
   "execution_count": 19,
   "id": "dfa8aa3e",
   "metadata": {},
   "outputs": [],
   "source": [
    "df['Age'] = df['Age'].astype('int')\n",
    "df['NCP'] = df['NCP'].astype('int')\n",
    "df['FCVC'] = df['FCVC'].astype('int')"
   ]
  },
  {
   "cell_type": "code",
   "execution_count": 20,
   "id": "3a1a15bf",
   "metadata": {},
   "outputs": [],
   "source": [
    "# Define the mapping dictionary\n",
    "mapping = {'no': 0, 'yes': 1}\n",
    "\n",
    "df['FAVC'] = df['FAVC'].map(mapping)\n",
    "df['SMOKE'] = df['SMOKE'].map(mapping)\n",
    "df['family_history_with_overweight'] = df['family_history_with_overweight'].map(mapping)\n",
    "df['SCC'] = df['SCC'].map(mapping)"
   ]
  },
  {
   "cell_type": "code",
   "execution_count": 21,
   "id": "f1d13717",
   "metadata": {},
   "outputs": [],
   "source": [
    "mapping = {'Sometimes': 0, 'Frequently': 1,'Always': 2, 'no': 3 }\n",
    "df['CAEC'] = df['CAEC'].map(mapping)\n",
    "df['CALC'] = df['CALC'].map(mapping)"
   ]
  },
  {
   "cell_type": "code",
   "execution_count": 22,
   "id": "05bc5c57",
   "metadata": {},
   "outputs": [],
   "source": [
    "def categorize_transportation(mode):\n",
    "    if mode in ['Public_Transportation']:\n",
    "        return 'Public Transportation'\n",
    "    elif mode in ['Automobile', 'Motorbike']:\n",
    "        return 'Private Motorized Transportation'\n",
    "    elif mode in ['Walking', 'Bike']:\n",
    "        return 'Non-Motorized Transportation'\n",
    "    else:\n",
    "        return 'Other'\n",
    "\n",
    "# Applying the function to the 'MTRANS' column\n",
    "df['MTRANS'] = df['MTRANS'].apply(categorize_transportation)"
   ]
  },
  {
   "cell_type": "code",
   "execution_count": 23,
   "id": "f1d25129",
   "metadata": {},
   "outputs": [],
   "source": [
    "df = pd.get_dummies(df, columns=['MTRANS'])"
   ]
  },
  {
   "cell_type": "code",
   "execution_count": 24,
   "id": "02a105a4",
   "metadata": {},
   "outputs": [
    {
     "data": {
      "text/html": [
       "<div>\n",
       "<style scoped>\n",
       "    .dataframe tbody tr th:only-of-type {\n",
       "        vertical-align: middle;\n",
       "    }\n",
       "\n",
       "    .dataframe tbody tr th {\n",
       "        vertical-align: top;\n",
       "    }\n",
       "\n",
       "    .dataframe thead th {\n",
       "        text-align: right;\n",
       "    }\n",
       "</style>\n",
       "<table border=\"1\" class=\"dataframe\">\n",
       "  <thead>\n",
       "    <tr style=\"text-align: right;\">\n",
       "      <th></th>\n",
       "      <th>index</th>\n",
       "      <th>Gender</th>\n",
       "      <th>Age</th>\n",
       "      <th>Height</th>\n",
       "      <th>Weight</th>\n",
       "      <th>family_history_with_overweight</th>\n",
       "      <th>FAVC</th>\n",
       "      <th>FCVC</th>\n",
       "      <th>NCP</th>\n",
       "      <th>CAEC</th>\n",
       "      <th>SMOKE</th>\n",
       "      <th>CH2O</th>\n",
       "      <th>SCC</th>\n",
       "      <th>FAF</th>\n",
       "      <th>TUE</th>\n",
       "      <th>CALC</th>\n",
       "      <th>NObeyesdad</th>\n",
       "      <th>MTRANS_Non-Motorized Transportation</th>\n",
       "      <th>MTRANS_Private Motorized Transportation</th>\n",
       "      <th>MTRANS_Public Transportation</th>\n",
       "    </tr>\n",
       "  </thead>\n",
       "  <tbody>\n",
       "    <tr>\n",
       "      <th>0</th>\n",
       "      <td>0</td>\n",
       "      <td>Female</td>\n",
       "      <td>21</td>\n",
       "      <td>1.62</td>\n",
       "      <td>64.0</td>\n",
       "      <td>1</td>\n",
       "      <td>0</td>\n",
       "      <td>2</td>\n",
       "      <td>3</td>\n",
       "      <td>0</td>\n",
       "      <td>0</td>\n",
       "      <td>2.0</td>\n",
       "      <td>0</td>\n",
       "      <td>0.0</td>\n",
       "      <td>1.0</td>\n",
       "      <td>3</td>\n",
       "      <td>Normal_Weight</td>\n",
       "      <td>0</td>\n",
       "      <td>0</td>\n",
       "      <td>1</td>\n",
       "    </tr>\n",
       "    <tr>\n",
       "      <th>1</th>\n",
       "      <td>1</td>\n",
       "      <td>Female</td>\n",
       "      <td>21</td>\n",
       "      <td>1.52</td>\n",
       "      <td>56.0</td>\n",
       "      <td>1</td>\n",
       "      <td>0</td>\n",
       "      <td>3</td>\n",
       "      <td>3</td>\n",
       "      <td>0</td>\n",
       "      <td>1</td>\n",
       "      <td>3.0</td>\n",
       "      <td>1</td>\n",
       "      <td>3.0</td>\n",
       "      <td>0.0</td>\n",
       "      <td>0</td>\n",
       "      <td>Normal_Weight</td>\n",
       "      <td>0</td>\n",
       "      <td>0</td>\n",
       "      <td>1</td>\n",
       "    </tr>\n",
       "    <tr>\n",
       "      <th>2</th>\n",
       "      <td>2</td>\n",
       "      <td>Male</td>\n",
       "      <td>23</td>\n",
       "      <td>1.80</td>\n",
       "      <td>77.0</td>\n",
       "      <td>1</td>\n",
       "      <td>0</td>\n",
       "      <td>2</td>\n",
       "      <td>3</td>\n",
       "      <td>0</td>\n",
       "      <td>0</td>\n",
       "      <td>2.0</td>\n",
       "      <td>0</td>\n",
       "      <td>2.0</td>\n",
       "      <td>1.0</td>\n",
       "      <td>1</td>\n",
       "      <td>Normal_Weight</td>\n",
       "      <td>0</td>\n",
       "      <td>0</td>\n",
       "      <td>1</td>\n",
       "    </tr>\n",
       "    <tr>\n",
       "      <th>3</th>\n",
       "      <td>3</td>\n",
       "      <td>Male</td>\n",
       "      <td>27</td>\n",
       "      <td>1.80</td>\n",
       "      <td>87.0</td>\n",
       "      <td>0</td>\n",
       "      <td>0</td>\n",
       "      <td>3</td>\n",
       "      <td>3</td>\n",
       "      <td>0</td>\n",
       "      <td>0</td>\n",
       "      <td>2.0</td>\n",
       "      <td>0</td>\n",
       "      <td>2.0</td>\n",
       "      <td>0.0</td>\n",
       "      <td>1</td>\n",
       "      <td>Overweight_Level_I</td>\n",
       "      <td>1</td>\n",
       "      <td>0</td>\n",
       "      <td>0</td>\n",
       "    </tr>\n",
       "    <tr>\n",
       "      <th>4</th>\n",
       "      <td>4</td>\n",
       "      <td>Male</td>\n",
       "      <td>22</td>\n",
       "      <td>1.78</td>\n",
       "      <td>89.8</td>\n",
       "      <td>0</td>\n",
       "      <td>0</td>\n",
       "      <td>2</td>\n",
       "      <td>1</td>\n",
       "      <td>0</td>\n",
       "      <td>0</td>\n",
       "      <td>2.0</td>\n",
       "      <td>0</td>\n",
       "      <td>0.0</td>\n",
       "      <td>0.0</td>\n",
       "      <td>0</td>\n",
       "      <td>Overweight_Level_II</td>\n",
       "      <td>0</td>\n",
       "      <td>0</td>\n",
       "      <td>1</td>\n",
       "    </tr>\n",
       "  </tbody>\n",
       "</table>\n",
       "</div>"
      ],
      "text/plain": [
       "   index  Gender  Age  Height  Weight  family_history_with_overweight  FAVC  \\\n",
       "0      0  Female   21    1.62    64.0                               1     0   \n",
       "1      1  Female   21    1.52    56.0                               1     0   \n",
       "2      2    Male   23    1.80    77.0                               1     0   \n",
       "3      3    Male   27    1.80    87.0                               0     0   \n",
       "4      4    Male   22    1.78    89.8                               0     0   \n",
       "\n",
       "   FCVC  NCP  CAEC  SMOKE  CH2O  SCC  FAF  TUE  CALC           NObeyesdad  \\\n",
       "0     2    3     0      0   2.0    0  0.0  1.0     3        Normal_Weight   \n",
       "1     3    3     0      1   3.0    1  3.0  0.0     0        Normal_Weight   \n",
       "2     2    3     0      0   2.0    0  2.0  1.0     1        Normal_Weight   \n",
       "3     3    3     0      0   2.0    0  2.0  0.0     1   Overweight_Level_I   \n",
       "4     2    1     0      0   2.0    0  0.0  0.0     0  Overweight_Level_II   \n",
       "\n",
       "   MTRANS_Non-Motorized Transportation  \\\n",
       "0                                    0   \n",
       "1                                    0   \n",
       "2                                    0   \n",
       "3                                    1   \n",
       "4                                    0   \n",
       "\n",
       "   MTRANS_Private Motorized Transportation  MTRANS_Public Transportation  \n",
       "0                                        0                             1  \n",
       "1                                        0                             1  \n",
       "2                                        0                             1  \n",
       "3                                        0                             0  \n",
       "4                                        0                             1  "
      ]
     },
     "execution_count": 24,
     "metadata": {},
     "output_type": "execute_result"
    }
   ],
   "source": [
    "df.head()"
   ]
  },
  {
   "cell_type": "code",
   "execution_count": 25,
   "id": "89fbd28b",
   "metadata": {},
   "outputs": [],
   "source": [
    "# Define the mapping dictionary\n",
    "mapping = {'Male': 1, 'Female': 0}\n",
    "df['Gender'] = df['Gender'].map(mapping)"
   ]
  },
  {
   "cell_type": "code",
   "execution_count": 26,
   "id": "79d01d6f",
   "metadata": {},
   "outputs": [],
   "source": [
    "# Mapping dictionary\n",
    "obesity_mapping = {\n",
    "    'Obesity_Type_I': 0,\n",
    "    'Obesity_Type_II': 1,\n",
    "    'Obesity_Type_III': 2,\n",
    "    'Overweight_Level_I': 3,\n",
    "    'Overweight_Level_II': 4,\n",
    "    'Normal_Weight': 5,\n",
    "    'Insufficient_Weight': 6\n",
    "}\n",
    "\n",
    "df['NObeyesdad'] = df['NObeyesdad'].map(obesity_mapping)"
   ]
  },
  {
   "cell_type": "code",
   "execution_count": 27,
   "id": "20dd6d7e",
   "metadata": {},
   "outputs": [
    {
     "data": {
      "text/html": [
       "<div>\n",
       "<style scoped>\n",
       "    .dataframe tbody tr th:only-of-type {\n",
       "        vertical-align: middle;\n",
       "    }\n",
       "\n",
       "    .dataframe tbody tr th {\n",
       "        vertical-align: top;\n",
       "    }\n",
       "\n",
       "    .dataframe thead th {\n",
       "        text-align: right;\n",
       "    }\n",
       "</style>\n",
       "<table border=\"1\" class=\"dataframe\">\n",
       "  <thead>\n",
       "    <tr style=\"text-align: right;\">\n",
       "      <th></th>\n",
       "      <th>index</th>\n",
       "      <th>Gender</th>\n",
       "      <th>Age</th>\n",
       "      <th>Height</th>\n",
       "      <th>Weight</th>\n",
       "      <th>family_history_with_overweight</th>\n",
       "      <th>FAVC</th>\n",
       "      <th>FCVC</th>\n",
       "      <th>NCP</th>\n",
       "      <th>CAEC</th>\n",
       "      <th>SMOKE</th>\n",
       "      <th>CH2O</th>\n",
       "      <th>SCC</th>\n",
       "      <th>FAF</th>\n",
       "      <th>TUE</th>\n",
       "      <th>CALC</th>\n",
       "      <th>NObeyesdad</th>\n",
       "      <th>MTRANS_Non-Motorized Transportation</th>\n",
       "      <th>MTRANS_Private Motorized Transportation</th>\n",
       "      <th>MTRANS_Public Transportation</th>\n",
       "    </tr>\n",
       "  </thead>\n",
       "  <tbody>\n",
       "    <tr>\n",
       "      <th>0</th>\n",
       "      <td>0</td>\n",
       "      <td>0</td>\n",
       "      <td>21</td>\n",
       "      <td>1.62</td>\n",
       "      <td>64.0</td>\n",
       "      <td>1</td>\n",
       "      <td>0</td>\n",
       "      <td>2</td>\n",
       "      <td>3</td>\n",
       "      <td>0</td>\n",
       "      <td>0</td>\n",
       "      <td>2.0</td>\n",
       "      <td>0</td>\n",
       "      <td>0.0</td>\n",
       "      <td>1.0</td>\n",
       "      <td>3</td>\n",
       "      <td>5</td>\n",
       "      <td>0</td>\n",
       "      <td>0</td>\n",
       "      <td>1</td>\n",
       "    </tr>\n",
       "    <tr>\n",
       "      <th>1</th>\n",
       "      <td>1</td>\n",
       "      <td>0</td>\n",
       "      <td>21</td>\n",
       "      <td>1.52</td>\n",
       "      <td>56.0</td>\n",
       "      <td>1</td>\n",
       "      <td>0</td>\n",
       "      <td>3</td>\n",
       "      <td>3</td>\n",
       "      <td>0</td>\n",
       "      <td>1</td>\n",
       "      <td>3.0</td>\n",
       "      <td>1</td>\n",
       "      <td>3.0</td>\n",
       "      <td>0.0</td>\n",
       "      <td>0</td>\n",
       "      <td>5</td>\n",
       "      <td>0</td>\n",
       "      <td>0</td>\n",
       "      <td>1</td>\n",
       "    </tr>\n",
       "    <tr>\n",
       "      <th>2</th>\n",
       "      <td>2</td>\n",
       "      <td>1</td>\n",
       "      <td>23</td>\n",
       "      <td>1.80</td>\n",
       "      <td>77.0</td>\n",
       "      <td>1</td>\n",
       "      <td>0</td>\n",
       "      <td>2</td>\n",
       "      <td>3</td>\n",
       "      <td>0</td>\n",
       "      <td>0</td>\n",
       "      <td>2.0</td>\n",
       "      <td>0</td>\n",
       "      <td>2.0</td>\n",
       "      <td>1.0</td>\n",
       "      <td>1</td>\n",
       "      <td>5</td>\n",
       "      <td>0</td>\n",
       "      <td>0</td>\n",
       "      <td>1</td>\n",
       "    </tr>\n",
       "    <tr>\n",
       "      <th>3</th>\n",
       "      <td>3</td>\n",
       "      <td>1</td>\n",
       "      <td>27</td>\n",
       "      <td>1.80</td>\n",
       "      <td>87.0</td>\n",
       "      <td>0</td>\n",
       "      <td>0</td>\n",
       "      <td>3</td>\n",
       "      <td>3</td>\n",
       "      <td>0</td>\n",
       "      <td>0</td>\n",
       "      <td>2.0</td>\n",
       "      <td>0</td>\n",
       "      <td>2.0</td>\n",
       "      <td>0.0</td>\n",
       "      <td>1</td>\n",
       "      <td>3</td>\n",
       "      <td>1</td>\n",
       "      <td>0</td>\n",
       "      <td>0</td>\n",
       "    </tr>\n",
       "    <tr>\n",
       "      <th>4</th>\n",
       "      <td>4</td>\n",
       "      <td>1</td>\n",
       "      <td>22</td>\n",
       "      <td>1.78</td>\n",
       "      <td>89.8</td>\n",
       "      <td>0</td>\n",
       "      <td>0</td>\n",
       "      <td>2</td>\n",
       "      <td>1</td>\n",
       "      <td>0</td>\n",
       "      <td>0</td>\n",
       "      <td>2.0</td>\n",
       "      <td>0</td>\n",
       "      <td>0.0</td>\n",
       "      <td>0.0</td>\n",
       "      <td>0</td>\n",
       "      <td>4</td>\n",
       "      <td>0</td>\n",
       "      <td>0</td>\n",
       "      <td>1</td>\n",
       "    </tr>\n",
       "  </tbody>\n",
       "</table>\n",
       "</div>"
      ],
      "text/plain": [
       "   index  Gender  Age  Height  Weight  family_history_with_overweight  FAVC  \\\n",
       "0      0       0   21    1.62    64.0                               1     0   \n",
       "1      1       0   21    1.52    56.0                               1     0   \n",
       "2      2       1   23    1.80    77.0                               1     0   \n",
       "3      3       1   27    1.80    87.0                               0     0   \n",
       "4      4       1   22    1.78    89.8                               0     0   \n",
       "\n",
       "   FCVC  NCP  CAEC  SMOKE  CH2O  SCC  FAF  TUE  CALC  NObeyesdad  \\\n",
       "0     2    3     0      0   2.0    0  0.0  1.0     3           5   \n",
       "1     3    3     0      1   3.0    1  3.0  0.0     0           5   \n",
       "2     2    3     0      0   2.0    0  2.0  1.0     1           5   \n",
       "3     3    3     0      0   2.0    0  2.0  0.0     1           3   \n",
       "4     2    1     0      0   2.0    0  0.0  0.0     0           4   \n",
       "\n",
       "   MTRANS_Non-Motorized Transportation  \\\n",
       "0                                    0   \n",
       "1                                    0   \n",
       "2                                    0   \n",
       "3                                    1   \n",
       "4                                    0   \n",
       "\n",
       "   MTRANS_Private Motorized Transportation  MTRANS_Public Transportation  \n",
       "0                                        0                             1  \n",
       "1                                        0                             1  \n",
       "2                                        0                             1  \n",
       "3                                        0                             0  \n",
       "4                                        0                             1  "
      ]
     },
     "execution_count": 27,
     "metadata": {},
     "output_type": "execute_result"
    }
   ],
   "source": [
    "df.head()"
   ]
  },
  {
   "cell_type": "markdown",
   "id": "720d6dbf",
   "metadata": {},
   "source": [
    "## Exploratory data analysis"
   ]
  },
  {
   "cell_type": "code",
   "execution_count": 28,
   "id": "39d8a0fd",
   "metadata": {},
   "outputs": [],
   "source": [
    "import seaborn as sns\n",
    "import matplotlib.pyplot as plt"
   ]
  },
  {
   "cell_type": "code",
   "execution_count": 29,
   "id": "d49983b3",
   "metadata": {},
   "outputs": [
    {
     "data": {
      "image/png": "[encoded data removed]",
      "text/plain": [
       "<Figure size 800x600 with 1 Axes>"
      ]
     },
     "metadata": {},
     "output_type": "display_data"
    }
   ],
   "source": [
    "# Create a count plot for the 'Gender' column\n",
    "plt.figure(figsize=(8, 6))\n",
    "sns.countplot(data=df, x='Gender', palette={0: 'pink', 1: 'blue'})\n",
    "\n",
    "# Add title and labels\n",
    "plt.title('Gender distrbution')\n",
    "plt.xlabel('Gender')\n",
    "plt.ylabel('Count')\n",
    "\n",
    "# Show the plot\n",
    "plt.show()\n"
   ]
  },
  {
   "cell_type": "code",
   "execution_count": 30,
   "id": "885b7bc8",
   "metadata": {},
   "outputs": [
    {
     "data": {
      "image/png": "[encoded data removed]",
      "text/plain": [
       "<Figure size 800x600 with 1 Axes>"
      ]
     },
     "metadata": {},
     "output_type": "display_data"
    }
   ],
   "source": [
    "plt.figure(figsize=(8, 6))\n",
    "sns.countplot(data=df, x='family_history_with_overweight', palette={0: 'pink', 1: 'green'})\n",
    "\n",
    "plt.title('overweight distribution')\n",
    "plt.xlabel('overweight count')\n",
    "plt.ylabel('Count')\n",
    "# Show the plot\n",
    "plt.show()"
   ]
  },
  {
   "cell_type": "code",
   "execution_count": 31,
   "id": "d5f7f05f",
   "metadata": {},
   "outputs": [
    {
     "data": {
      "image/png": "[encoded data removed]",
      "text/plain": [
       "<Figure size 800x600 with 1 Axes>"
      ]
     },
     "metadata": {},
     "output_type": "display_data"
    }
   ],
   "source": [
    "plt.figure(figsize=(8, 6))\n",
    "sns.countplot(data=df, x='FAVC', palette={0: 'red', 1: 'blue'})\n",
    "\n",
    "plt.title('high caloric food distribution')\n",
    "plt.xlabel('eat high caloric food count')\n",
    "plt.ylabel('Count')\n",
    "plt.show()"
   ]
  },
  {
   "cell_type": "code",
   "execution_count": 32,
   "id": "755dd185",
   "metadata": {},
   "outputs": [
    {
     "data": {
      "image/png": "[encoded data removed]",
      "text/plain": [
       "<Figure size 800x600 with 1 Axes>"
      ]
     },
     "metadata": {},
     "output_type": "display_data"
    }
   ],
   "source": [
    "plt.figure(figsize=(8, 6))\n",
    "sns.countplot(data=df, x='SMOKE', palette={0: 'brown', 1: 'pink'})\n",
    "\n",
    "plt.title('SMOKE habit distribution')\n",
    "plt.xlabel('SMOKE_habit_count')\n",
    "plt.ylabel('Count')\n",
    "plt.show()"
   ]
  },
  {
   "cell_type": "code",
   "execution_count": 33,
   "id": "53454bad",
   "metadata": {},
   "outputs": [
    {
     "data": {
      "image/png": "[encoded data removed]",
      "text/plain": [
       "<Figure size 800x600 with 1 Axes>"
      ]
     },
     "metadata": {},
     "output_type": "display_data"
    }
   ],
   "source": [
    "plt.figure(figsize=(8, 6))\n",
    "sns.countplot(data=df, x='NCP', palette={3: 'pink', 1: 'green',2: 'blue',4: 'Yellow'})\n",
    "\n",
    "plt.title('NCP distribution')\n",
    "plt.xlabel('How many main meals do you have daily?')\n",
    "plt.ylabel('Count')\n",
    "plt.show()"
   ]
  },
  {
   "cell_type": "code",
   "execution_count": 34,
   "id": "fa2272b1",
   "metadata": {},
   "outputs": [
    {
     "data": {
      "image/png": "[encoded data removed]",
      "text/plain": [
       "<Figure size 800x600 with 1 Axes>"
      ]
     },
     "metadata": {},
     "output_type": "display_data"
    }
   ],
   "source": [
    "plt.figure(figsize=(8, 6))\n",
    "sns.countplot(data=df, x='CALC', palette={0: 'green',1: 'blue',2: 'Yellow',3:'gold'})\n",
    "\n",
    "plt.title('Drink alcohol distribution')\n",
    "plt.xlabel('How often do you drink alcohol?')\n",
    "plt.ylabel('Count')\n",
    "plt.show()"
   ]
  },
  {
   "cell_type": "code",
   "execution_count": 35,
   "id": "4d88e4ba",
   "metadata": {},
   "outputs": [
    {
     "data": {
      "image/png": "[encoded data removed]",
      "text/plain": [
       "<Figure size 800x600 with 1 Axes>"
      ]
     },
     "metadata": {},
     "output_type": "display_data"
    }
   ],
   "source": [
    "plt.figure(figsize=(8, 6))\n",
    "sns.countplot(data=df, x='SCC', palette={0: 'Yellow',1: 'gold'})\n",
    "\n",
    "plt.title('monitor the calories distribution')\n",
    "plt.xlabel('Do you monitor the calories you eat daily?')\n",
    "plt.ylabel('Count')\n",
    "plt.show()"
   ]
  },
  {
   "cell_type": "code",
   "execution_count": 36,
   "id": "31bc5e63",
   "metadata": {},
   "outputs": [
    {
     "data": {
      "image/png": "[encoded data removed]",
      "text/plain": [
       "<Figure size 800x600 with 1 Axes>"
      ]
     },
     "metadata": {},
     "output_type": "display_data"
    }
   ],
   "source": [
    "plt.figure(figsize=(8, 6))\n",
    "sns.countplot(data=df, x='CAEC', palette={0: 'blue',1: 'yellow',2:'brown',3:'black'})\n",
    "\n",
    "plt.title('food between meals distribution')\n",
    "plt.xlabel('Do you eat any food between meals?')\n",
    "plt.ylabel('Count')\n",
    "plt.show()"
   ]
  },
  {
   "cell_type": "code",
   "execution_count": 37,
   "id": "62f96a86",
   "metadata": {},
   "outputs": [
    {
     "data": {
      "image/png": "[encoded data removed]",
      "text/plain": [
       "<Figure size 800x600 with 1 Axes>"
      ]
     },
     "metadata": {},
     "output_type": "display_data"
    }
   ],
   "source": [
    "plt.figure(figsize=(8, 6))\n",
    "sns.countplot(data=df, x='FCVC', palette={1: 'black',2:'red',3:'blue'})\n",
    "\n",
    "plt.title('vegetables meals distribution')\n",
    "plt.xlabel('Do you usually eat vegetables in your meals?')\n",
    "plt.ylabel('Count')\n",
    "plt.show()"
   ]
  },
  {
   "cell_type": "code",
   "execution_count": 38,
   "id": "d93106cb",
   "metadata": {},
   "outputs": [
    {
     "data": {
      "image/png": "[encoded data removed]",
      "text/plain": [
       "<Figure size 800x600 with 1 Axes>"
      ]
     },
     "metadata": {},
     "output_type": "display_data"
    }
   ],
   "source": [
    "plt.figure(figsize=(8, 6))\n",
    "sns.countplot(data=df, x='NObeyesdad', palette={0:'red',1: 'black',2:'blue',3:'gold',4:'purple',5:'green',6:'yellow'})\n",
    "\n",
    "plt.title('Obesity level distribution')\n",
    "plt.xlabel('Obesity level')\n",
    "plt.ylabel('Count')\n",
    "plt.show()"
   ]
  },
  {
   "cell_type": "code",
   "execution_count": 39,
   "id": "a0d5b8a3",
   "metadata": {},
   "outputs": [
    {
     "data": {
      "image/png": "[encoded data removed]",
      "text/plain": [
       "<Figure size 2000x600 with 3 Axes>"
      ]
     },
     "metadata": {},
     "output_type": "display_data"
    }
   ],
   "source": [
    "# Setting the figure size\n",
    "plt.figure(figsize=(20, 6))\n",
    "\n",
    "# Distribution plot for Height\n",
    "plt.subplot(131)\n",
    "sns.histplot(df['Height'], kde=True, bins=30, color='blue')\n",
    "plt.title('Height Distribution')\n",
    "plt.xlabel('Height')\n",
    "plt.ylabel('Count')\n",
    "\n",
    "# Distribution plot for Weight\n",
    "plt.subplot(132)\n",
    "sns.histplot(df['Weight'], kde=True, bins=30, color='green')\n",
    "plt.title('Weight Distribution')\n",
    "plt.xlabel('Weight')\n",
    "plt.ylabel('Count')\n",
    "\n",
    "# Distribution plot for Age\n",
    "plt.subplot(133)\n",
    "sns.histplot(df['Age'], kde=True, bins=30, color='red')\n",
    "plt.title('Age Distribution')\n",
    "plt.xlabel('Age')\n",
    "plt.ylabel('Count')\n",
    "\n",
    "# Adjust layout\n",
    "plt.tight_layout()\n",
    "plt.show()"
   ]
  },
  {
   "cell_type": "code",
   "execution_count": 40,
   "id": "779017d8",
   "metadata": {},
   "outputs": [
    {
     "data": {
      "image/png": "[encoded data removed]",
      "text/plain": [
       "<Figure size 1000x800 with 2 Axes>"
      ]
     },
     "metadata": {},
     "output_type": "display_data"
    }
   ],
   "source": [
    "import pandas as pd\n",
    "import seaborn as sns\n",
    "import matplotlib.pyplot as plt\n",
    "\n",
    "# Assuming 'df' is your DataFrame with the relevant columns\n",
    "# Calculating the correlation matrix\n",
    "correlation_matrix = df[['Age', 'Height', 'Weight', 'CH2O', 'FAF', 'TUE']].corr()\n",
    "\n",
    "# Plotting the correlation matrix\n",
    "plt.figure(figsize=(10, 8))\n",
    "sns.heatmap(correlation_matrix, annot=True, cmap='coolwarm', linewidths=0.5)\n",
    "plt.title('Correlation Matrix')\n",
    "plt.show()"
   ]
  },
  {
   "cell_type": "code",
   "execution_count": 41,
   "id": "282b447c",
   "metadata": {},
   "outputs": [
    {
     "name": "stdout",
     "output_type": "stream",
     "text": [
      "Chi-square test p-values:\n",
      "Gender: 9.357967638720334e-139\n",
      "family_history_with_overweight: 3.5241561087034105e-130\n",
      "FAVC: 4.0897083168071957e-47\n",
      "CAEC: 6.30125789731839e-142\n",
      "CALC: 2.22093967310428e-60\n",
      "SMOKE: 1.73979060827963e-05\n",
      "SCC: 3.3385130651942555e-25\n",
      "NCP: 9.260786618325458e-94\n",
      "Significant variables to keep:\n",
      "['Gender', 'family_history_with_overweight', 'FAVC', 'CAEC', 'CALC', 'SMOKE', 'SCC', 'NCP']\n"
     ]
    }
   ],
   "source": [
    "import pandas as pd\n",
    "from scipy.stats import chi2_contingency\n",
    "\n",
    "# Assuming 'df' is your DataFrame\n",
    "\n",
    "# List of categorical variables and the target variable\n",
    "categorical_vars = ['Gender', 'family_history_with_overweight', 'FAVC', 'CAEC', 'CALC', 'SMOKE', 'SCC', 'NCP']\n",
    "target_var = 'NObeyesdad'\n",
    "\n",
    "# Function to perform chi-square test and return p-values\n",
    "def chi_square_test(df, categorical_vars, target_var):\n",
    "    p_values = {}\n",
    "    for var in categorical_vars:\n",
    "        contingency_table = pd.crosstab(df[var], df[target_var])\n",
    "        chi2, p, dof, expected = chi2_contingency(contingency_table)\n",
    "        p_values[var] = p\n",
    "    return p_values\n",
    "\n",
    "# Perform chi-square tests\n",
    "p_values = chi_square_test(df, categorical_vars, target_var)\n",
    "\n",
    "# Output p-values\n",
    "print(\"Chi-square test p-values:\")\n",
    "for var, p in p_values.items():\n",
    "    print(f\"{var}: {p}\")\n",
    "\n",
    "# Determine which variables to keep (p < 0.05 for significance)\n",
    "significant_vars = [var for var, p in p_values.items() if p < 0.05]\n",
    "print(\"Significant variables to keep:\")\n",
    "print(significant_vars)"
   ]
  },
  {
   "cell_type": "code",
   "execution_count": 42,
   "id": "5f873882",
   "metadata": {},
   "outputs": [
    {
     "data": {
      "image/png": "[encoded data removed]",
      "text/plain": [
       "<Figure size 640x480 with 1 Axes>"
      ]
     },
     "metadata": {},
     "output_type": "display_data"
    },
    {
     "data": {
      "image/png": "[encoded data removed]",
      "text/plain": [
       "<Figure size 640x480 with 1 Axes>"
      ]
     },
     "metadata": {},
     "output_type": "display_data"
    },
    {
     "data": {
      "image/png": "[encoded data removed]",
      "text/plain": [
       "<Figure size 640x480 with 1 Axes>"
      ]
     },
     "metadata": {},
     "output_type": "display_data"
    },
    {
     "data": {
      "image/png": "[encoded data removed]",
      "text/plain": [
       "<Figure size 640x480 with 1 Axes>"
      ]
     },
     "metadata": {},
     "output_type": "display_data"
    },
    {
     "data": {
      "image/png": "[encoded data removed]",
      "text/plain": [
       "<Figure size 640x480 with 1 Axes>"
      ]
     },
     "metadata": {},
     "output_type": "display_data"
    },
    {
     "data": {
      "image/png": "[encoded data removed]",
      "text/plain": [
       "<Figure size 640x480 with 1 Axes>"
      ]
     },
     "metadata": {},
     "output_type": "display_data"
    },
    {
     "name": "stdout",
     "output_type": "stream",
     "text": [
      "Outliers based on IQR method:\n",
      "Age:\n",
      "      index  Gender  Age    Height      Weight  \\\n",
      "13       13       1   41  1.800000   99.000000   \n",
      "21       21       0   52  1.690000   87.000000   \n",
      "33       33       1   39  1.790000   90.000000   \n",
      "92       92       1   55  1.780000   84.000000   \n",
      "103     104       0   38  1.560000   80.000000   \n",
      "...     ...     ...  ...       ...         ...   \n",
      "1716   1740       1   37  1.763582  117.861590   \n",
      "1751   1775       1   37  1.762921  118.401740   \n",
      "1752   1776       1   38  1.752863  119.201465   \n",
      "1753   1777       1   38  1.768235  117.792268   \n",
      "1754   1778       1   38  1.766888  118.134898   \n",
      "\n",
      "      family_history_with_overweight  FAVC  FCVC  NCP  CAEC  SMOKE      CH2O  \\\n",
      "13                                 0     1     2    3     0      0  2.000000   \n",
      "21                                 1     1     3    1     0      1  2.000000   \n",
      "33                                 0     0     2    1     0      0  2.000000   \n",
      "92                                 1     0     3    4     1      0  3.000000   \n",
      "103                                1     1     2    3     0      0  2.000000   \n",
      "...                              ...   ...   ...  ...   ...    ...       ...   \n",
      "1716                               1     1     2    2     0      0  2.038128   \n",
      "1751                               1     1     2    2     0      0  1.885926   \n",
      "1752                               1     1     2    2     0      0  1.959777   \n",
      "1753                               1     1     2    2     0      0  1.831187   \n",
      "1754                               1     1     2    2     0      0  1.895876   \n",
      "\n",
      "      SCC       FAF      TUE  CALC  NObeyesdad  \\\n",
      "13      0  2.000000  1.00000     1           0   \n",
      "21      0  0.000000  0.00000     3           0   \n",
      "33      0  0.000000  0.00000     0           4   \n",
      "92      1  3.000000  0.00000     1           3   \n",
      "103     0  0.000000  0.00000     0           0   \n",
      "...   ...       ...      ...   ...         ...   \n",
      "1716    0  0.852344  0.00000     0           1   \n",
      "1751    0  0.615298  0.00000     0           1   \n",
      "1752    0  0.608100  0.64676     0           1   \n",
      "1753    0  0.756277  0.00000     0           1   \n",
      "1754    0  0.822186  0.00000     0           1   \n",
      "\n",
      "      MTRANS_Non-Motorized Transportation  \\\n",
      "13                                      0   \n",
      "21                                      0   \n",
      "33                                      0   \n",
      "92                                      1   \n",
      "103                                     0   \n",
      "...                                   ...   \n",
      "1716                                    0   \n",
      "1751                                    0   \n",
      "1752                                    0   \n",
      "1753                                    0   \n",
      "1754                                    0   \n",
      "\n",
      "      MTRANS_Private Motorized Transportation  MTRANS_Public Transportation  \n",
      "13                                          1                             0  \n",
      "21                                          1                             0  \n",
      "33                                          0                             1  \n",
      "92                                          0                             0  \n",
      "103                                         1                             0  \n",
      "...                                       ...                           ...  \n",
      "1716                                        1                             0  \n",
      "1751                                        1                             0  \n",
      "1752                                        1                             0  \n",
      "1753                                        1                             0  \n",
      "1754                                        1                             0  \n",
      "\n",
      "[147 rows x 20 columns]\n",
      "Height:\n",
      "     index  Gender  Age  Height  Weight  family_history_with_overweight  FAVC  \\\n",
      "342    349       1   20    1.98   125.0                               1     1   \n",
      "\n",
      "     FCVC  NCP  CAEC  SMOKE  CH2O  SCC  FAF  TUE  CALC  NObeyesdad  \\\n",
      "342     2    3     2      0   3.0    0  1.0  1.0     0           0   \n",
      "\n",
      "     MTRANS_Non-Motorized Transportation  \\\n",
      "342                                    0   \n",
      "\n",
      "     MTRANS_Private Motorized Transportation  MTRANS_Public Transportation  \n",
      "342                                        0                             1  \n",
      "Weight:\n",
      "     index  Gender  Age  Height  Weight  family_history_with_overweight  FAVC  \\\n",
      "337    344       1   18    1.87   173.0                               1     1   \n",
      "\n",
      "     FCVC  NCP  CAEC  SMOKE  CH2O  SCC  FAF  TUE  CALC  NObeyesdad  \\\n",
      "337     3    3     1      0   2.0    0  2.0  1.0     0           2   \n",
      "\n",
      "     MTRANS_Non-Motorized Transportation  \\\n",
      "337                                    0   \n",
      "\n",
      "     MTRANS_Private Motorized Transportation  MTRANS_Public Transportation  \n",
      "337                                        0                             1  \n",
      "CH2O:\n",
      "Empty DataFrame\n",
      "Columns: [index, Gender, Age, Height, Weight, family_history_with_overweight, FAVC, FCVC, NCP, CAEC, SMOKE, CH2O, SCC, FAF, TUE, CALC, NObeyesdad, MTRANS_Non-Motorized Transportation, MTRANS_Private Motorized Transportation, MTRANS_Public Transportation]\n",
      "Index: []\n",
      "FAF:\n",
      "Empty DataFrame\n",
      "Columns: [index, Gender, Age, Height, Weight, family_history_with_overweight, FAVC, FCVC, NCP, CAEC, SMOKE, CH2O, SCC, FAF, TUE, CALC, NObeyesdad, MTRANS_Non-Motorized Transportation, MTRANS_Private Motorized Transportation, MTRANS_Public Transportation]\n",
      "Index: []\n",
      "TUE:\n",
      "Empty DataFrame\n",
      "Columns: [index, Gender, Age, Height, Weight, family_history_with_overweight, FAVC, FCVC, NCP, CAEC, SMOKE, CH2O, SCC, FAF, TUE, CALC, NObeyesdad, MTRANS_Non-Motorized Transportation, MTRANS_Private Motorized Transportation, MTRANS_Public Transportation]\n",
      "Index: []\n",
      "Outliers based on Z-score method:\n",
      "Age:\n",
      "      index  Gender  Age    Height     Weight  family_history_with_overweight  \\\n",
      "21       21       0   52  1.690000  87.000000                               1   \n",
      "92       92       1   55  1.780000  84.000000                               1   \n",
      "131     133       0   61  1.650000  66.000000                               0   \n",
      "135     137       1   44  1.600000  80.000000                               1   \n",
      "159     161       1   55  1.650000  80.000000                               0   \n",
      "167     169       0   45  1.630000  77.000000                               1   \n",
      "226     232       0   51  1.590000  50.000000                               1   \n",
      "246     252       1   56  1.790000  90.000000                               1   \n",
      "483     492       1   45  1.700000  86.000000                               0   \n",
      "989    1013       1   55  1.769269  80.491339                               0   \n",
      "1010   1034       1   50  1.745528  82.130728                               1   \n",
      "1039   1063       0   45  1.675953  79.668320                               1   \n",
      "1064   1088       1   55  1.657221  80.993213                               1   \n",
      "1077   1101       1   46  1.718097  88.600878                               1   \n",
      "1134   1158       1   55  1.673394  80.400306                               1   \n",
      "1155   1179       1   47  1.743935  84.729197                               1   \n",
      "1184   1208       0   45  1.687326  80.413997                               1   \n",
      "1262   1286       0   47  1.643786  81.978743                               1   \n",
      "\n",
      "      FAVC  FCVC  NCP  CAEC  SMOKE      CH2O  SCC       FAF  TUE  CALC  \\\n",
      "21       1     3    1     0      1  2.000000    0  0.000000  0.0     3   \n",
      "92       0     3    4     1      0  3.000000    1  3.000000  0.0     1   \n",
      "131      1     3    3     2      0  2.000000    0  1.000000  1.0     1   \n",
      "135      0     2    3     0      1  3.000000    0  0.000000  0.0     3   \n",
      "159      1     2    3     0      0  2.000000    0  1.000000  0.0     3   \n",
      "167      1     2    3     1      0  1.000000    0  0.000000  0.0     3   \n",
      "226      0     3    3     0      1  3.000000    1  2.000000  0.0     3   \n",
      "246      0     2    3     0      1  2.000000    0  1.000000  0.0     1   \n",
      "483      1     3    3     1      0  1.000000    0  0.000000  0.0     3   \n",
      "989      1     2    3     0      0  2.000000    0  1.000000  0.0     3   \n",
      "1010     1     2    3     0      0  1.774778    0  0.943266  0.0     3   \n",
      "1039     1     2    3     0      0  1.000000    0  0.000000  0.0     3   \n",
      "1064     1     2    3     0      0  2.000000    0  1.000000  0.0     3   \n",
      "1077     1     2    3     0      0  1.568035    0  0.870127  0.0     3   \n",
      "1134     1     2    3     0      0  2.000000    0  1.000000  0.0     3   \n",
      "1155     1     2    3     0      0  1.146595    0  0.313810  0.0     3   \n",
      "1184     1     2    3     0      0  1.026729    0  0.647798  0.0     3   \n",
      "1262     1     2    1     0      0  1.827351    0  0.000000  0.0     3   \n",
      "\n",
      "      NObeyesdad  MTRANS_Non-Motorized Transportation  \\\n",
      "21             0                                    0   \n",
      "92             3                                    1   \n",
      "131            5                                    0   \n",
      "135            0                                    0   \n",
      "159            4                                    0   \n",
      "167            4                                    0   \n",
      "226            5                                    0   \n",
      "246            4                                    0   \n",
      "483            4                                    0   \n",
      "989            4                                    0   \n",
      "1010           4                                    0   \n",
      "1039           4                                    0   \n",
      "1064           4                                    0   \n",
      "1077           4                                    0   \n",
      "1134           4                                    0   \n",
      "1155           4                                    0   \n",
      "1184           4                                    0   \n",
      "1262           0                                    0   \n",
      "\n",
      "      MTRANS_Private Motorized Transportation  MTRANS_Public Transportation  \n",
      "21                                          1                             0  \n",
      "92                                          0                             0  \n",
      "131                                         0                             1  \n",
      "135                                         1                             0  \n",
      "159                                         1                             0  \n",
      "167                                         1                             0  \n",
      "226                                         0                             1  \n",
      "246                                         1                             0  \n",
      "483                                         1                             0  \n",
      "989                                         1                             0  \n",
      "1010                                        1                             0  \n",
      "1039                                        1                             0  \n",
      "1064                                        1                             0  \n",
      "1077                                        1                             0  \n",
      "1134                                        1                             0  \n",
      "1155                                        1                             0  \n",
      "1184                                        1                             0  \n",
      "1262                                        1                             0  \n",
      "Height:\n",
      "Empty DataFrame\n",
      "Columns: [index, Gender, Age, Height, Weight, family_history_with_overweight, FAVC, FCVC, NCP, CAEC, SMOKE, CH2O, SCC, FAF, TUE, CALC, NObeyesdad, MTRANS_Non-Motorized Transportation, MTRANS_Private Motorized Transportation, MTRANS_Public Transportation]\n",
      "Index: []\n",
      "Weight:\n",
      "     index  Gender  Age  Height  Weight  family_history_with_overweight  FAVC  \\\n",
      "337    344       1   18    1.87   173.0                               1     1   \n",
      "\n",
      "     FCVC  NCP  CAEC  SMOKE  CH2O  SCC  FAF  TUE  CALC  NObeyesdad  \\\n",
      "337     3    3     1      0   2.0    0  2.0  1.0     0           2   \n",
      "\n",
      "     MTRANS_Non-Motorized Transportation  \\\n",
      "337                                    0   \n",
      "\n",
      "     MTRANS_Private Motorized Transportation  MTRANS_Public Transportation  \n",
      "337                                        0                             1  \n",
      "CH2O:\n",
      "Empty DataFrame\n",
      "Columns: [index, Gender, Age, Height, Weight, family_history_with_overweight, FAVC, FCVC, NCP, CAEC, SMOKE, CH2O, SCC, FAF, TUE, CALC, NObeyesdad, MTRANS_Non-Motorized Transportation, MTRANS_Private Motorized Transportation, MTRANS_Public Transportation]\n",
      "Index: []\n",
      "FAF:\n",
      "Empty DataFrame\n",
      "Columns: [index, Gender, Age, Height, Weight, family_history_with_overweight, FAVC, FCVC, NCP, CAEC, SMOKE, CH2O, SCC, FAF, TUE, CALC, NObeyesdad, MTRANS_Non-Motorized Transportation, MTRANS_Private Motorized Transportation, MTRANS_Public Transportation]\n",
      "Index: []\n",
      "TUE:\n",
      "Empty DataFrame\n",
      "Columns: [index, Gender, Age, Height, Weight, family_history_with_overweight, FAVC, FCVC, NCP, CAEC, SMOKE, CH2O, SCC, FAF, TUE, CALC, NObeyesdad, MTRANS_Non-Motorized Transportation, MTRANS_Private Motorized Transportation, MTRANS_Public Transportation]\n",
      "Index: []\n"
     ]
    }
   ],
   "source": [
    "import seaborn as sns\n",
    "from scipy import stats\n",
    "\n",
    "def plot_boxplots(data, columns):\n",
    "    for column in columns:\n",
    "        sns.boxplot(data[column])\n",
    "        plt.title(f'Box Plot of {column}')\n",
    "        plt.show()\n",
    "\n",
    "plot_boxplots(df, ['Age', 'Height', 'Weight', 'CH2O', 'FAF', 'TUE'])\n",
    "\n",
    "# Statistical Methods\n",
    "def detect_outliers_iqr(data, columns):\n",
    "    outliers = {}\n",
    "    for column in columns:\n",
    "        Q1 = data[column].quantile(0.25)\n",
    "        Q3 = data[column].quantile(0.75)\n",
    "        IQR = Q3 - Q1\n",
    "        lower_bound = Q1 - 1.5 * IQR\n",
    "        upper_bound = Q3 + 1.5 * IQR\n",
    "        outliers[column] = data[(data[column] < lower_bound) | (data[column] > upper_bound)]\n",
    "    return outliers\n",
    "\n",
    "outliers_iqr = detect_outliers_iqr(df, ['Age', 'Height', 'Weight', 'CH2O', 'FAF', 'TUE'])\n",
    "print(\"Outliers based on IQR method:\")\n",
    "for column, outlier_data in outliers_iqr.items():\n",
    "    print(f'{column}:')\n",
    "    print(outlier_data)\n",
    "\n",
    "def detect_outliers_zscore(data, columns):\n",
    "    outliers = {}\n",
    "    for column in columns:\n",
    "        z_scores = np.abs(stats.zscore(data[column]))\n",
    "        outliers[column] = data[z_scores > 3]\n",
    "    return outliers\n",
    "\n",
    "outliers_zscore = detect_outliers_zscore(df, ['Age', 'Height', 'Weight', 'CH2O', 'FAF', 'TUE'])\n",
    "print(\"Outliers based on Z-score method:\")\n",
    "for column, outlier_data in outliers_zscore.items():\n",
    "    print(f'{column}:')\n",
    "    print(outlier_data)"
   ]
  },
  {
   "cell_type": "code",
   "execution_count": null,
   "id": "2d3a2bc5",
   "metadata": {},
   "outputs": [],
   "source": []
  },
  {
   "cell_type": "markdown",
   "id": "19b2fb28",
   "metadata": {},
   "source": [
    "## Model Selection"
   ]
  },
  {
   "cell_type": "markdown",
   "id": "f33a0cf4",
   "metadata": {},
   "source": [
    "### Classfication"
   ]
  },
  {
   "cell_type": "code",
   "execution_count": 43,
   "id": "cb2508be",
   "metadata": {},
   "outputs": [],
   "source": [
    "# Import libraries for ML Models\n",
    "from sklearn.svm import SVC\n",
    "from sklearn.neighbors import KNeighborsClassifier\n",
    "from sklearn.ensemble import RandomForestClassifier, GradientBoostingClassifier\n",
    "from sklearn.naive_bayes import GaussianNB \n",
    "from xgboost import XGBClassifier\n",
    "from sklearn.tree import DecisionTreeClassifier"
   ]
  },
  {
   "cell_type": "code",
   "execution_count": 44,
   "id": "6f7ac6f8",
   "metadata": {},
   "outputs": [],
   "source": [
    "# Import libraries for model testing\n",
    "from sklearn.model_selection import train_test_split\n",
    "from sklearn.model_selection import cross_val_score\n",
    "from sklearn.metrics import confusion_matrix\n",
    "from sklearn.metrics import accuracy_score\n",
    "from sklearn.metrics import accuracy_score, precision_score, recall_score, f1_score"
   ]
  },
  {
   "cell_type": "code",
   "execution_count": 45,
   "id": "1f5edcba",
   "metadata": {},
   "outputs": [
    {
     "data": {
      "text/html": [
       "<div>\n",
       "<style scoped>\n",
       "    .dataframe tbody tr th:only-of-type {\n",
       "        vertical-align: middle;\n",
       "    }\n",
       "\n",
       "    .dataframe tbody tr th {\n",
       "        vertical-align: top;\n",
       "    }\n",
       "\n",
       "    .dataframe thead th {\n",
       "        text-align: right;\n",
       "    }\n",
       "</style>\n",
       "<table border=\"1\" class=\"dataframe\">\n",
       "  <thead>\n",
       "    <tr style=\"text-align: right;\">\n",
       "      <th></th>\n",
       "      <th>index</th>\n",
       "      <th>Gender</th>\n",
       "      <th>Age</th>\n",
       "      <th>Height</th>\n",
       "      <th>Weight</th>\n",
       "      <th>family_history_with_overweight</th>\n",
       "      <th>FAVC</th>\n",
       "      <th>FCVC</th>\n",
       "      <th>NCP</th>\n",
       "      <th>CAEC</th>\n",
       "      <th>SMOKE</th>\n",
       "      <th>CH2O</th>\n",
       "      <th>SCC</th>\n",
       "      <th>FAF</th>\n",
       "      <th>TUE</th>\n",
       "      <th>CALC</th>\n",
       "      <th>NObeyesdad</th>\n",
       "      <th>MTRANS_Non-Motorized Transportation</th>\n",
       "      <th>MTRANS_Private Motorized Transportation</th>\n",
       "      <th>MTRANS_Public Transportation</th>\n",
       "    </tr>\n",
       "  </thead>\n",
       "  <tbody>\n",
       "    <tr>\n",
       "      <th>0</th>\n",
       "      <td>0</td>\n",
       "      <td>0</td>\n",
       "      <td>21</td>\n",
       "      <td>1.62</td>\n",
       "      <td>64.0</td>\n",
       "      <td>1</td>\n",
       "      <td>0</td>\n",
       "      <td>2</td>\n",
       "      <td>3</td>\n",
       "      <td>0</td>\n",
       "      <td>0</td>\n",
       "      <td>2.0</td>\n",
       "      <td>0</td>\n",
       "      <td>0.0</td>\n",
       "      <td>1.0</td>\n",
       "      <td>3</td>\n",
       "      <td>5</td>\n",
       "      <td>0</td>\n",
       "      <td>0</td>\n",
       "      <td>1</td>\n",
       "    </tr>\n",
       "    <tr>\n",
       "      <th>1</th>\n",
       "      <td>1</td>\n",
       "      <td>0</td>\n",
       "      <td>21</td>\n",
       "      <td>1.52</td>\n",
       "      <td>56.0</td>\n",
       "      <td>1</td>\n",
       "      <td>0</td>\n",
       "      <td>3</td>\n",
       "      <td>3</td>\n",
       "      <td>0</td>\n",
       "      <td>1</td>\n",
       "      <td>3.0</td>\n",
       "      <td>1</td>\n",
       "      <td>3.0</td>\n",
       "      <td>0.0</td>\n",
       "      <td>0</td>\n",
       "      <td>5</td>\n",
       "      <td>0</td>\n",
       "      <td>0</td>\n",
       "      <td>1</td>\n",
       "    </tr>\n",
       "    <tr>\n",
       "      <th>2</th>\n",
       "      <td>2</td>\n",
       "      <td>1</td>\n",
       "      <td>23</td>\n",
       "      <td>1.80</td>\n",
       "      <td>77.0</td>\n",
       "      <td>1</td>\n",
       "      <td>0</td>\n",
       "      <td>2</td>\n",
       "      <td>3</td>\n",
       "      <td>0</td>\n",
       "      <td>0</td>\n",
       "      <td>2.0</td>\n",
       "      <td>0</td>\n",
       "      <td>2.0</td>\n",
       "      <td>1.0</td>\n",
       "      <td>1</td>\n",
       "      <td>5</td>\n",
       "      <td>0</td>\n",
       "      <td>0</td>\n",
       "      <td>1</td>\n",
       "    </tr>\n",
       "    <tr>\n",
       "      <th>3</th>\n",
       "      <td>3</td>\n",
       "      <td>1</td>\n",
       "      <td>27</td>\n",
       "      <td>1.80</td>\n",
       "      <td>87.0</td>\n",
       "      <td>0</td>\n",
       "      <td>0</td>\n",
       "      <td>3</td>\n",
       "      <td>3</td>\n",
       "      <td>0</td>\n",
       "      <td>0</td>\n",
       "      <td>2.0</td>\n",
       "      <td>0</td>\n",
       "      <td>2.0</td>\n",
       "      <td>0.0</td>\n",
       "      <td>1</td>\n",
       "      <td>3</td>\n",
       "      <td>1</td>\n",
       "      <td>0</td>\n",
       "      <td>0</td>\n",
       "    </tr>\n",
       "    <tr>\n",
       "      <th>4</th>\n",
       "      <td>4</td>\n",
       "      <td>1</td>\n",
       "      <td>22</td>\n",
       "      <td>1.78</td>\n",
       "      <td>89.8</td>\n",
       "      <td>0</td>\n",
       "      <td>0</td>\n",
       "      <td>2</td>\n",
       "      <td>1</td>\n",
       "      <td>0</td>\n",
       "      <td>0</td>\n",
       "      <td>2.0</td>\n",
       "      <td>0</td>\n",
       "      <td>0.0</td>\n",
       "      <td>0.0</td>\n",
       "      <td>0</td>\n",
       "      <td>4</td>\n",
       "      <td>0</td>\n",
       "      <td>0</td>\n",
       "      <td>1</td>\n",
       "    </tr>\n",
       "  </tbody>\n",
       "</table>\n",
       "</div>"
      ],
      "text/plain": [
       "   index  Gender  Age  Height  Weight  family_history_with_overweight  FAVC  \\\n",
       "0      0       0   21    1.62    64.0                               1     0   \n",
       "1      1       0   21    1.52    56.0                               1     0   \n",
       "2      2       1   23    1.80    77.0                               1     0   \n",
       "3      3       1   27    1.80    87.0                               0     0   \n",
       "4      4       1   22    1.78    89.8                               0     0   \n",
       "\n",
       "   FCVC  NCP  CAEC  SMOKE  CH2O  SCC  FAF  TUE  CALC  NObeyesdad  \\\n",
       "0     2    3     0      0   2.0    0  0.0  1.0     3           5   \n",
       "1     3    3     0      1   3.0    1  3.0  0.0     0           5   \n",
       "2     2    3     0      0   2.0    0  2.0  1.0     1           5   \n",
       "3     3    3     0      0   2.0    0  2.0  0.0     1           3   \n",
       "4     2    1     0      0   2.0    0  0.0  0.0     0           4   \n",
       "\n",
       "   MTRANS_Non-Motorized Transportation  \\\n",
       "0                                    0   \n",
       "1                                    0   \n",
       "2                                    0   \n",
       "3                                    1   \n",
       "4                                    0   \n",
       "\n",
       "   MTRANS_Private Motorized Transportation  MTRANS_Public Transportation  \n",
       "0                                        0                             1  \n",
       "1                                        0                             1  \n",
       "2                                        0                             1  \n",
       "3                                        0                             0  \n",
       "4                                        0                             1  "
      ]
     },
     "execution_count": 45,
     "metadata": {},
     "output_type": "execute_result"
    }
   ],
   "source": [
    "df.head()"
   ]
  },
  {
   "cell_type": "code",
   "execution_count": 46,
   "id": "37c5135d",
   "metadata": {},
   "outputs": [],
   "source": [
    "from sklearn.preprocessing import StandardScaler\n",
    "from sklearn.preprocessing import MinMaxScaler"
   ]
  },
  {
   "cell_type": "code",
   "execution_count": 47,
   "id": "120e67a5",
   "metadata": {},
   "outputs": [],
   "source": [
    "# Columns to standardize\n",
    "columns_to_scale = ['Age', 'Height', 'CH2O', 'FAF', 'TUE']\n",
    "\n",
    "# Initialize the StandardScaler\n",
    "scaler = StandardScaler()\n",
    "\n",
    "# Fit and transform the selected columns\n",
    "df[columns_to_scale] = scaler.fit_transform(df[columns_to_scale])"
   ]
  },
  {
   "cell_type": "code",
   "execution_count": 48,
   "id": "c3d1faa6",
   "metadata": {},
   "outputs": [
    {
     "data": {
      "text/html": [
       "<div>\n",
       "<style scoped>\n",
       "    .dataframe tbody tr th:only-of-type {\n",
       "        vertical-align: middle;\n",
       "    }\n",
       "\n",
       "    .dataframe tbody tr th {\n",
       "        vertical-align: top;\n",
       "    }\n",
       "\n",
       "    .dataframe thead th {\n",
       "        text-align: right;\n",
       "    }\n",
       "</style>\n",
       "<table border=\"1\" class=\"dataframe\">\n",
       "  <thead>\n",
       "    <tr style=\"text-align: right;\">\n",
       "      <th></th>\n",
       "      <th>index</th>\n",
       "      <th>Gender</th>\n",
       "      <th>Age</th>\n",
       "      <th>Height</th>\n",
       "      <th>Weight</th>\n",
       "      <th>family_history_with_overweight</th>\n",
       "      <th>FAVC</th>\n",
       "      <th>FCVC</th>\n",
       "      <th>NCP</th>\n",
       "      <th>CAEC</th>\n",
       "      <th>SMOKE</th>\n",
       "      <th>CH2O</th>\n",
       "      <th>SCC</th>\n",
       "      <th>FAF</th>\n",
       "      <th>TUE</th>\n",
       "      <th>CALC</th>\n",
       "      <th>NObeyesdad</th>\n",
       "      <th>MTRANS_Non-Motorized Transportation</th>\n",
       "      <th>MTRANS_Private Motorized Transportation</th>\n",
       "      <th>MTRANS_Public Transportation</th>\n",
       "    </tr>\n",
       "  </thead>\n",
       "  <tbody>\n",
       "    <tr>\n",
       "      <th>0</th>\n",
       "      <td>0</td>\n",
       "      <td>0</td>\n",
       "      <td>-0.475238</td>\n",
       "      <td>-0.887408</td>\n",
       "      <td>64.0</td>\n",
       "      <td>1</td>\n",
       "      <td>0</td>\n",
       "      <td>2</td>\n",
       "      <td>3</td>\n",
       "      <td>0</td>\n",
       "      <td>0</td>\n",
       "      <td>-0.007810</td>\n",
       "      <td>0</td>\n",
       "      <td>-1.186977</td>\n",
       "      <td>0.554211</td>\n",
       "      <td>3</td>\n",
       "      <td>5</td>\n",
       "      <td>0</td>\n",
       "      <td>0</td>\n",
       "      <td>1</td>\n",
       "    </tr>\n",
       "    <tr>\n",
       "      <th>1</th>\n",
       "      <td>1</td>\n",
       "      <td>0</td>\n",
       "      <td>-0.475238</td>\n",
       "      <td>-1.960788</td>\n",
       "      <td>56.0</td>\n",
       "      <td>1</td>\n",
       "      <td>0</td>\n",
       "      <td>3</td>\n",
       "      <td>3</td>\n",
       "      <td>0</td>\n",
       "      <td>1</td>\n",
       "      <td>1.636552</td>\n",
       "      <td>1</td>\n",
       "      <td>2.328908</td>\n",
       "      <td>-1.090505</td>\n",
       "      <td>0</td>\n",
       "      <td>5</td>\n",
       "      <td>0</td>\n",
       "      <td>0</td>\n",
       "      <td>1</td>\n",
       "    </tr>\n",
       "    <tr>\n",
       "      <th>2</th>\n",
       "      <td>2</td>\n",
       "      <td>1</td>\n",
       "      <td>-0.159371</td>\n",
       "      <td>1.044677</td>\n",
       "      <td>77.0</td>\n",
       "      <td>1</td>\n",
       "      <td>0</td>\n",
       "      <td>2</td>\n",
       "      <td>3</td>\n",
       "      <td>0</td>\n",
       "      <td>0</td>\n",
       "      <td>-0.007810</td>\n",
       "      <td>0</td>\n",
       "      <td>1.156947</td>\n",
       "      <td>0.554211</td>\n",
       "      <td>1</td>\n",
       "      <td>5</td>\n",
       "      <td>0</td>\n",
       "      <td>0</td>\n",
       "      <td>1</td>\n",
       "    </tr>\n",
       "    <tr>\n",
       "      <th>3</th>\n",
       "      <td>3</td>\n",
       "      <td>1</td>\n",
       "      <td>0.472363</td>\n",
       "      <td>1.044677</td>\n",
       "      <td>87.0</td>\n",
       "      <td>0</td>\n",
       "      <td>0</td>\n",
       "      <td>3</td>\n",
       "      <td>3</td>\n",
       "      <td>0</td>\n",
       "      <td>0</td>\n",
       "      <td>-0.007810</td>\n",
       "      <td>0</td>\n",
       "      <td>1.156947</td>\n",
       "      <td>-1.090505</td>\n",
       "      <td>1</td>\n",
       "      <td>3</td>\n",
       "      <td>1</td>\n",
       "      <td>0</td>\n",
       "      <td>0</td>\n",
       "    </tr>\n",
       "    <tr>\n",
       "      <th>4</th>\n",
       "      <td>4</td>\n",
       "      <td>1</td>\n",
       "      <td>-0.317305</td>\n",
       "      <td>0.830001</td>\n",
       "      <td>89.8</td>\n",
       "      <td>0</td>\n",
       "      <td>0</td>\n",
       "      <td>2</td>\n",
       "      <td>1</td>\n",
       "      <td>0</td>\n",
       "      <td>0</td>\n",
       "      <td>-0.007810</td>\n",
       "      <td>0</td>\n",
       "      <td>-1.186977</td>\n",
       "      <td>-1.090505</td>\n",
       "      <td>0</td>\n",
       "      <td>4</td>\n",
       "      <td>0</td>\n",
       "      <td>0</td>\n",
       "      <td>1</td>\n",
       "    </tr>\n",
       "  </tbody>\n",
       "</table>\n",
       "</div>"
      ],
      "text/plain": [
       "   index  Gender       Age    Height  Weight  family_history_with_overweight  \\\n",
       "0      0       0 -0.475238 -0.887408    64.0                               1   \n",
       "1      1       0 -0.475238 -1.960788    56.0                               1   \n",
       "2      2       1 -0.159371  1.044677    77.0                               1   \n",
       "3      3       1  0.472363  1.044677    87.0                               0   \n",
       "4      4       1 -0.317305  0.830001    89.8                               0   \n",
       "\n",
       "   FAVC  FCVC  NCP  CAEC  SMOKE      CH2O  SCC       FAF       TUE  CALC  \\\n",
       "0     0     2    3     0      0 -0.007810    0 -1.186977  0.554211     3   \n",
       "1     0     3    3     0      1  1.636552    1  2.328908 -1.090505     0   \n",
       "2     0     2    3     0      0 -0.007810    0  1.156947  0.554211     1   \n",
       "3     0     3    3     0      0 -0.007810    0  1.156947 -1.090505     1   \n",
       "4     0     2    1     0      0 -0.007810    0 -1.186977 -1.090505     0   \n",
       "\n",
       "   NObeyesdad  MTRANS_Non-Motorized Transportation  \\\n",
       "0           5                                    0   \n",
       "1           5                                    0   \n",
       "2           5                                    0   \n",
       "3           3                                    1   \n",
       "4           4                                    0   \n",
       "\n",
       "   MTRANS_Private Motorized Transportation  MTRANS_Public Transportation  \n",
       "0                                        0                             1  \n",
       "1                                        0                             1  \n",
       "2                                        0                             1  \n",
       "3                                        0                             0  \n",
       "4                                        0                             1  "
      ]
     },
     "execution_count": 48,
     "metadata": {},
     "output_type": "execute_result"
    }
   ],
   "source": [
    "df.head()"
   ]
  },
  {
   "cell_type": "code",
   "execution_count": 49,
   "id": "aa99553f",
   "metadata": {},
   "outputs": [],
   "source": [
    "# Function to count and remove outliers using the Z-score method\n",
    "def count_and_remove_outliers_zscore(data, columns, threshold=3):\n",
    "    outliers_count = {}\n",
    "    data_cleaned = data.copy()\n",
    "    \n",
    "    for column in columns:\n",
    "        z_scores = np.abs(stats.zscore(data[column]))\n",
    "        outliers_count[column] = (z_scores > threshold).sum()\n",
    "        data_cleaned = data_cleaned[z_scores <= threshold]\n",
    "        \n",
    "    return outliers_count, data_cleaned"
   ]
  },
  {
   "cell_type": "code",
   "execution_count": 50,
   "id": "b353f092",
   "metadata": {},
   "outputs": [
    {
     "name": "stdout",
     "output_type": "stream",
     "text": [
      "Number of outliers based on Z-score method:\n",
      "Age: 18\n",
      "Height: 0\n",
      "Weight: 1\n",
      "CH2O: 0\n",
      "FAF: 0\n",
      "TUE: 0\n"
     ]
    },
    {
     "name": "stderr",
     "output_type": "stream",
     "text": [
      "c:\\Program Files\\Python37\\lib\\site-packages\\ipykernel_launcher.py:9: UserWarning: Boolean Series key will be reindexed to match DataFrame index.\n",
      "  if __name__ == \"__main__\":\n"
     ]
    }
   ],
   "source": [
    "# Columns to check for outliers\n",
    "columns_to_check = ['Age', 'Height', 'Weight', 'CH2O', 'FAF', 'TUE']\n",
    "\n",
    "# Count and remove outliers\n",
    "outliers_zscore_count, df_cleaned = count_and_remove_outliers_zscore(df, columns_to_check)\n",
    "\n",
    "# Print the number of outliers\n",
    "print(\"Number of outliers based on Z-score method:\")\n",
    "for column, count in outliers_zscore_count.items():\n",
    "    print(f'{column}: {count}')"
   ]
  },
  {
   "cell_type": "code",
   "execution_count": 51,
   "id": "f85bf018",
   "metadata": {},
   "outputs": [],
   "source": [
    "df = df_cleaned"
   ]
  },
  {
   "cell_type": "markdown",
   "id": "bf254016",
   "metadata": {},
   "source": [
    "## Regression"
   ]
  },
  {
   "cell_type": "code",
   "execution_count": 52,
   "id": "97dc746e",
   "metadata": {},
   "outputs": [
    {
     "data": {
      "text/html": [
       "<div>\n",
       "<style scoped>\n",
       "    .dataframe tbody tr th:only-of-type {\n",
       "        vertical-align: middle;\n",
       "    }\n",
       "\n",
       "    .dataframe tbody tr th {\n",
       "        vertical-align: top;\n",
       "    }\n",
       "\n",
       "    .dataframe thead th {\n",
       "        text-align: right;\n",
       "    }\n",
       "</style>\n",
       "<table border=\"1\" class=\"dataframe\">\n",
       "  <thead>\n",
       "    <tr style=\"text-align: right;\">\n",
       "      <th></th>\n",
       "      <th>index</th>\n",
       "      <th>Gender</th>\n",
       "      <th>Age</th>\n",
       "      <th>Height</th>\n",
       "      <th>Weight</th>\n",
       "      <th>family_history_with_overweight</th>\n",
       "      <th>FAVC</th>\n",
       "      <th>FCVC</th>\n",
       "      <th>NCP</th>\n",
       "      <th>CAEC</th>\n",
       "      <th>SMOKE</th>\n",
       "      <th>CH2O</th>\n",
       "      <th>SCC</th>\n",
       "      <th>FAF</th>\n",
       "      <th>TUE</th>\n",
       "      <th>CALC</th>\n",
       "      <th>NObeyesdad</th>\n",
       "      <th>MTRANS_Non-Motorized Transportation</th>\n",
       "      <th>MTRANS_Private Motorized Transportation</th>\n",
       "      <th>MTRANS_Public Transportation</th>\n",
       "    </tr>\n",
       "  </thead>\n",
       "  <tbody>\n",
       "    <tr>\n",
       "      <th>0</th>\n",
       "      <td>0</td>\n",
       "      <td>0</td>\n",
       "      <td>-0.475238</td>\n",
       "      <td>-0.887408</td>\n",
       "      <td>64.0</td>\n",
       "      <td>1</td>\n",
       "      <td>0</td>\n",
       "      <td>2</td>\n",
       "      <td>3</td>\n",
       "      <td>0</td>\n",
       "      <td>0</td>\n",
       "      <td>-0.007810</td>\n",
       "      <td>0</td>\n",
       "      <td>-1.186977</td>\n",
       "      <td>0.554211</td>\n",
       "      <td>3</td>\n",
       "      <td>5</td>\n",
       "      <td>0</td>\n",
       "      <td>0</td>\n",
       "      <td>1</td>\n",
       "    </tr>\n",
       "    <tr>\n",
       "      <th>1</th>\n",
       "      <td>1</td>\n",
       "      <td>0</td>\n",
       "      <td>-0.475238</td>\n",
       "      <td>-1.960788</td>\n",
       "      <td>56.0</td>\n",
       "      <td>1</td>\n",
       "      <td>0</td>\n",
       "      <td>3</td>\n",
       "      <td>3</td>\n",
       "      <td>0</td>\n",
       "      <td>1</td>\n",
       "      <td>1.636552</td>\n",
       "      <td>1</td>\n",
       "      <td>2.328908</td>\n",
       "      <td>-1.090505</td>\n",
       "      <td>0</td>\n",
       "      <td>5</td>\n",
       "      <td>0</td>\n",
       "      <td>0</td>\n",
       "      <td>1</td>\n",
       "    </tr>\n",
       "    <tr>\n",
       "      <th>2</th>\n",
       "      <td>2</td>\n",
       "      <td>1</td>\n",
       "      <td>-0.159371</td>\n",
       "      <td>1.044677</td>\n",
       "      <td>77.0</td>\n",
       "      <td>1</td>\n",
       "      <td>0</td>\n",
       "      <td>2</td>\n",
       "      <td>3</td>\n",
       "      <td>0</td>\n",
       "      <td>0</td>\n",
       "      <td>-0.007810</td>\n",
       "      <td>0</td>\n",
       "      <td>1.156947</td>\n",
       "      <td>0.554211</td>\n",
       "      <td>1</td>\n",
       "      <td>5</td>\n",
       "      <td>0</td>\n",
       "      <td>0</td>\n",
       "      <td>1</td>\n",
       "    </tr>\n",
       "    <tr>\n",
       "      <th>3</th>\n",
       "      <td>3</td>\n",
       "      <td>1</td>\n",
       "      <td>0.472363</td>\n",
       "      <td>1.044677</td>\n",
       "      <td>87.0</td>\n",
       "      <td>0</td>\n",
       "      <td>0</td>\n",
       "      <td>3</td>\n",
       "      <td>3</td>\n",
       "      <td>0</td>\n",
       "      <td>0</td>\n",
       "      <td>-0.007810</td>\n",
       "      <td>0</td>\n",
       "      <td>1.156947</td>\n",
       "      <td>-1.090505</td>\n",
       "      <td>1</td>\n",
       "      <td>3</td>\n",
       "      <td>1</td>\n",
       "      <td>0</td>\n",
       "      <td>0</td>\n",
       "    </tr>\n",
       "    <tr>\n",
       "      <th>4</th>\n",
       "      <td>4</td>\n",
       "      <td>1</td>\n",
       "      <td>-0.317305</td>\n",
       "      <td>0.830001</td>\n",
       "      <td>89.8</td>\n",
       "      <td>0</td>\n",
       "      <td>0</td>\n",
       "      <td>2</td>\n",
       "      <td>1</td>\n",
       "      <td>0</td>\n",
       "      <td>0</td>\n",
       "      <td>-0.007810</td>\n",
       "      <td>0</td>\n",
       "      <td>-1.186977</td>\n",
       "      <td>-1.090505</td>\n",
       "      <td>0</td>\n",
       "      <td>4</td>\n",
       "      <td>0</td>\n",
       "      <td>0</td>\n",
       "      <td>1</td>\n",
       "    </tr>\n",
       "  </tbody>\n",
       "</table>\n",
       "</div>"
      ],
      "text/plain": [
       "   index  Gender       Age    Height  Weight  family_history_with_overweight  \\\n",
       "0      0       0 -0.475238 -0.887408    64.0                               1   \n",
       "1      1       0 -0.475238 -1.960788    56.0                               1   \n",
       "2      2       1 -0.159371  1.044677    77.0                               1   \n",
       "3      3       1  0.472363  1.044677    87.0                               0   \n",
       "4      4       1 -0.317305  0.830001    89.8                               0   \n",
       "\n",
       "   FAVC  FCVC  NCP  CAEC  SMOKE      CH2O  SCC       FAF       TUE  CALC  \\\n",
       "0     0     2    3     0      0 -0.007810    0 -1.186977  0.554211     3   \n",
       "1     0     3    3     0      1  1.636552    1  2.328908 -1.090505     0   \n",
       "2     0     2    3     0      0 -0.007810    0  1.156947  0.554211     1   \n",
       "3     0     3    3     0      0 -0.007810    0  1.156947 -1.090505     1   \n",
       "4     0     2    1     0      0 -0.007810    0 -1.186977 -1.090505     0   \n",
       "\n",
       "   NObeyesdad  MTRANS_Non-Motorized Transportation  \\\n",
       "0           5                                    0   \n",
       "1           5                                    0   \n",
       "2           5                                    0   \n",
       "3           3                                    1   \n",
       "4           4                                    0   \n",
       "\n",
       "   MTRANS_Private Motorized Transportation  MTRANS_Public Transportation  \n",
       "0                                        0                             1  \n",
       "1                                        0                             1  \n",
       "2                                        0                             1  \n",
       "3                                        0                             0  \n",
       "4                                        0                             1  "
      ]
     },
     "execution_count": 52,
     "metadata": {},
     "output_type": "execute_result"
    }
   ],
   "source": [
    "df.head()"
   ]
  },
  {
   "cell_type": "code",
   "execution_count": 53,
   "id": "115ae97f",
   "metadata": {},
   "outputs": [],
   "source": [
    "df1 = df[['Height', 'Weight', 'Age', 'Gender', 'FCVC', 'TUE', 'FAF', 'CH2O','NObeyesdad']]"
   ]
  },
  {
   "cell_type": "code",
   "execution_count": 54,
   "id": "ac417cae",
   "metadata": {},
   "outputs": [],
   "source": [
    "X = df1.drop(['Weight'], axis=1)\n",
    "Y = df1['Weight']"
   ]
  },
  {
   "cell_type": "code",
   "execution_count": 55,
   "id": "0dfd46fc",
   "metadata": {},
   "outputs": [],
   "source": [
    "x_train, x_test, y_train, y_test = train_test_split(X, Y, test_size=0.2, random_state=42)"
   ]
  },
  {
   "cell_type": "code",
   "execution_count": 56,
   "id": "1eedc617",
   "metadata": {},
   "outputs": [],
   "source": [
    "from sklearn.metrics import mean_absolute_error, mean_squared_error, r2_score\n",
    "from sklearn.tree import DecisionTreeRegressor\n",
    "from sklearn.ensemble import RandomForestRegressor\n",
    "from sklearn.svm import SVR"
   ]
  },
  {
   "cell_type": "code",
   "execution_count": 57,
   "metadata": {},
   "outputs": [],
   "source": [
    "# Initialize the models\n",
    "models = {\n",
    "    'Decision Tree Regressor': DecisionTreeRegressor(),\n",
    "    'Random Forest Regressor': RandomForestRegressor(),\n",
    "    'Support Vector Regressor': SVR()\n",
    "}"
   ]
  },
  {
   "cell_type": "code",
   "execution_count": 59,
   "id": "be89c6b6",
   "metadata": {},
   "outputs": [
    {
     "name": "stdout",
     "output_type": "stream",
     "text": [
      "Decision Tree Regressor metrics:\n",
      "Mean Absolute Error: 2.1485346980676328\n",
      "Mean Squared Error: 17.031420178363955\n",
      "R² Score: 0.9763040083598998\n",
      "\n",
      "Random Forest Regressor metrics:\n",
      "Mean Absolute Error: 1.6864130311433148\n",
      "Mean Squared Error: 8.632278800461977\n",
      "R² Score: 0.987989820922238\n",
      "\n",
      "Support Vector Regressor metrics:\n",
      "Mean Absolute Error: 6.591046758276776\n",
      "Mean Squared Error: 89.62469435032614\n",
      "R² Score: 0.8753042326576038\n",
      "\n"
     ]
    }
   ],
   "source": [
    "def compare_models_regression():\n",
    "    for name, model in models.items():\n",
    "        # Train the model\n",
    "        if name == 'Support Vector Regressor':\n",
    "            model.fit(x_train, y_train)\n",
    "            y_pred = model.predict(x_test)\n",
    "        else:\n",
    "            model.fit(x_train, y_train)\n",
    "            y_pred = model.predict(x_test)\n",
    "\n",
    "        # Calculate evaluation metrics\n",
    "        mae = mean_absolute_error(y_test, y_pred)\n",
    "        mse = mean_squared_error(y_test, y_pred)\n",
    "        r2 = r2_score(y_test, y_pred)\n",
    "\n",
    "        # Print evaluation metrics\n",
    "        print(f'{name} metrics:')\n",
    "        print('Mean Absolute Error:', mae)\n",
    "        print('Mean Squared Error:', mse)\n",
    "        print('R² Score:', r2)\n",
    "        print()\n",
    "\n",
    "# Run the function to compare models\n",
    "compare_models_regression()"
   ]
  },
  {
   "cell_type": "markdown",
   "id": "a57e183b",
   "metadata": {},
   "source": [
    "## Hyper parameter tunning "
   ]
  },
  {
   "cell_type": "code",
   "execution_count": 63,
   "id": "653a98a4",
   "metadata": {},
   "outputs": [
    {
     "name": "stdout",
     "output_type": "stream",
     "text": [
      "Best parameters: {'max_depth': 8, 'min_samples_leaf': 7, 'min_samples_split': 12}\n"
     ]
    }
   ],
   "source": [
    "from sklearn.model_selection import RandomizedSearchCV\n",
    "from sklearn.tree import DecisionTreeRegressor\n",
    "from scipy.stats import randint, uniform\n",
    "\n",
    "# Define the parameter grid with a smaller range of values\n",
    "param_grid = {\n",
    "    'max_depth': randint(1, 20),\n",
    "    'min_samples_split': randint(2, 20),\n",
    "    'min_samples_leaf': randint(1, 20)\n",
    "}\n",
    "\n",
    "# Initialize the model\n",
    "model = DecisionTreeRegressor()\n",
    "\n",
    "# Perform RandomizedSearchCV with reduced n_iter and n_jobs\n",
    "search = RandomizedSearchCV(model, param_grid, n_iter=10, cv=5, random_state=42, n_jobs=1)\n",
    "search.fit(x_train, y_train)  # Replace X_train and y_train with your training data\n",
    "\n",
    "print(f\"Best parameters: {search.best_params_}\")"
   ]
  },
  {
   "cell_type": "code",
   "execution_count": 65,
   "id": "e808b520",
   "metadata": {},
   "outputs": [
    {
     "name": "stdout",
     "output_type": "stream",
     "text": [
      "Optimizing Random Forest Regressor...\n",
      "Best parameters for Random Forest Regressor: {'max_depth': 9, 'max_features': 0.5828160165372797, 'min_samples_leaf': 2, 'min_samples_split': 3, 'n_estimators': 18}\n",
      "Optimizing Support Vector Regressor...\n",
      "Best parameters for Support Vector Regressor: {'C': 4.968777594207295, 'epsilon': 0.12638567021515212, 'kernel': 'rbf'}\n",
      "Best parameters for all models: {'Random Forest Regressor': {'max_depth': 9, 'max_features': 0.5828160165372797, 'min_samples_leaf': 2, 'min_samples_split': 3, 'n_estimators': 18}, 'Support Vector Regressor': {'C': 4.968777594207295, 'epsilon': 0.12638567021515212, 'kernel': 'rbf'}}\n"
     ]
    }
   ],
   "source": [
    "from sklearn.ensemble import RandomForestRegressor\n",
    "from sklearn.svm import SVR\n",
    "\n",
    "# Initialize the models\n",
    "models = {\n",
    "    'Random Forest Regressor': RandomForestRegressor(),\n",
    "    'Support Vector Regressor': SVR()\n",
    "}\n",
    "\n",
    "# Define the parameter grids for each model\n",
    "param_grids = {\n",
    "    'Random Forest Regressor': {\n",
    "        'n_estimators': randint(10, 100),  # Reduced range\n",
    "        'max_features': uniform(0.1, 0.5),  # Reduced range\n",
    "        'max_depth': randint(1, 15),  # Reduced range\n",
    "        'min_samples_split': randint(2, 10),  # Reduced range\n",
    "        'min_samples_leaf': randint(1, 10)  # Reduced range\n",
    "    },\n",
    "    'Support Vector Regressor': {\n",
    "        'C': uniform(0.1, 5),  # Reduced range\n",
    "        'epsilon': uniform(0.01, 0.5),  # Reduced range\n",
    "        'kernel': ['linear', 'rbf']  # Reduced number of kernels\n",
    "    }\n",
    "}\n",
    "\n",
    "# Perform RandomizedSearchCV for each model\n",
    "best_params = {}\n",
    "for name, model in models.items():\n",
    "    print(f\"Optimizing {name}...\")\n",
    "    search = RandomizedSearchCV(model, param_grids[name], n_iter=10, cv=5, random_state=42, n_jobs=1)  # Set n_jobs=1 to limit parallelism\n",
    "    search.fit(x_train, y_train)  # Replace x_train and y_train with your training data\n",
    "    best_params[name] = search.best_params_\n",
    "    print(f\"Best parameters for {name}: {best_params[name]}\")\n",
    "\n",
    "print(\"Best parameters for all models:\", best_params)\n"
   ]
  },
  {
   "cell_type": "code",
   "execution_count": 66,
   "id": "8761f471",
   "metadata": {},
   "outputs": [],
   "source": [
    "# Initialize the models\n",
    "models = {\n",
    "    'Decision Tree Regressor': DecisionTreeRegressor(max_depth = 8,min_samples_leaf = 7, min_samples_split = 12),\n",
    "    'Random Forest Regressor': RandomForestRegressor(max_depth = 9, max_features = 0.5828160165372797, min_samples_leaf = 2, min_samples_split= 3, n_estimators= 18),\n",
    "    'Support Vector Regressor': SVR(C =4.968777594207295, epsilon = 0.12638567021515212, kernel ='rbf')\n",
    "}"
   ]
  },
  {
   "cell_type": "code",
   "execution_count": 67,
   "id": "af738042",
   "metadata": {},
   "outputs": [
    {
     "name": "stdout",
     "output_type": "stream",
     "text": [
      "Decision Tree Regressor metrics:\n",
      "Mean Absolute Error: 2.217759595317082\n",
      "Mean Squared Error: 12.821093789345364\n",
      "R² Score: 0.9821618791581918\n",
      "\n",
      "Random Forest Regressor metrics:\n",
      "Mean Absolute Error: 2.0590128936124845\n",
      "Mean Squared Error: 10.750497642523793\n",
      "R² Score: 0.9850427210651653\n",
      "\n",
      "Support Vector Regressor metrics:\n",
      "Mean Absolute Error: 5.387339807096044\n",
      "Mean Squared Error: 60.5761712696514\n",
      "R² Score: 0.9157197442748534\n",
      "\n"
     ]
    }
   ],
   "source": [
    "def compare_models_regression1():\n",
    "    for name, model in models.items():\n",
    "        # Train the model\n",
    "        if name == 'Support Vector Regressor':\n",
    "            model.fit(x_train, y_train)\n",
    "            y_pred = model.predict(x_test)\n",
    "        else:\n",
    "            model.fit(x_train, y_train)\n",
    "            y_pred = model.predict(x_test)\n",
    "\n",
    "        # Calculate evaluation metrics\n",
    "        mae = mean_absolute_error(y_test, y_pred)\n",
    "        mse = mean_squared_error(y_test, y_pred)\n",
    "        r2 = r2_score(y_test, y_pred)\n",
    "\n",
    "        # Print evaluation metrics\n",
    "        print(f'{name} metrics:')\n",
    "        print('Mean Absolute Error:', mae)\n",
    "        print('Mean Squared Error:', mse)\n",
    "        print('R² Score:', r2)\n",
    "        print()\n",
    "\n",
    "# Run the function to compare models\n",
    "compare_models_regression1()"
   ]
  }
 ],
 "metadata": {
  "kernelspec": {
   "display_name": "Python 3 (ipykernel)",
   "language": "python",
   "name": "python3"
  },
  "language_info": {
   "codemirror_mode": {
    "name": "ipython",
    "version": 3
   },
   "file_extension": ".py",
   "mimetype": "text/x-python",
   "name": "python",
   "nbconvert_exporter": "python",
   "pygments_lexer": "ipython3",
   "version": "3.7.9"
  }
 },
 "nbformat": 4,
 "nbformat_minor": 5
}
